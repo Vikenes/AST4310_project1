{
 "cells": [
  {
   "cell_type": "markdown",
   "id": "1a265ece",
   "metadata": {},
   "source": [
    "<div style=\"background-color:#e6f3ff; padding:10px; border-style:\n",
    "solid;; border-color:#0084ff; border-width:1px\">\n",
    "\n",
    "Comments from the ***examiners*** appear in blue boxes like this one.\n",
    "</div>"
   ]
  },
  {
   "cell_type": "markdown",
   "id": "bb491244",
   "metadata": {},
   "source": [
    "<div style=\"background-color:#e6e6e6; padding:10px; border-style:\n",
    "solid;; border-color:#0d0d0d; border-width:1px\">\n",
    "\n",
    "Comments from ***peer reviewer 1*** will appear in gray boxes like this one.\n",
    "</div>"
   ]
  },
  {
   "cell_type": "markdown",
   "id": "722055b9",
   "metadata": {},
   "source": [
    "<div style=\"background-color:#ffffe6; padding:10px; border-style:\n",
    "solid;; border-color:#e6e600; border-width:1px\">\n",
    "\n",
    "Comments from ***peer reviewer 2*** will appear in yellow boxes like\n",
    "this one.\n",
    "</div>"
   ]
  },
  {
   "cell_type": "markdown",
   "id": "2edf67e2",
   "metadata": {},
   "source": [
    "## AST4310, Autumn 2022, Project 1:\n",
    "## Basic Spectral Line Formation (\"Cecilia Payne-Gaposchkin\")\n",
    "\n",
    "Authored by :\n",
    "\n",
    "\n",
    "\n",
    "#### Header and imports"
   ]
  },
  {
   "cell_type": "code",
   "execution_count": null,
   "id": "9aadcf9a",
   "metadata": {},
   "outputs": [],
   "source": [
    "import numpy as np\n",
    "import matplotlib.pyplot as plt\n",
    "from matplotlib import cm\n",
    "from astropy import units\n",
    "from astropy import constants\n",
    "from astropy import units\n",
    "\n",
    "from astropy.visualization import quantity_support\n",
    "quantity_support()\n",
    "\n",
    "h = constants.h.value \n",
    "k_B = constants.k_B.value \n",
    "c = constants.c.value \n",
    "e = constants.e.value \n",
    "\n",
    "plt.rc('legend', frameon=False)\n",
    "# plt.rc('figure', figsize=(7, 7/1.3))\n",
    "plt.rc('figure', figsize=(10, 10/1.3))\n",
    "plt.rc('font', size=13)"
   ]
  },
  {
   "cell_type": "markdown",
   "id": "2e27a0df",
   "metadata": {},
   "source": [
    "### Exercise 1\n",
    "\n",
    "<div style=\"background-color:#e6ffe6; padding:10px; border-style:\n",
    "solid;; border-color:#00e600; border-width:1px\">\n",
    "<i> \n",
    "\n",
    "* Identify the four hydrogen lines in the image with stellar spectrograms (first figure in section 1). Looking at the hydrogen energy level diagram in section 1.2, to which series do they correspond? What are their lower and upper levels? Compute their central wavelengths precisely using equation (5). \n",
    "\n",
    "* Payne's basic assumption was that the strength of the absorption lines observed in stellar spectra scales linearly with the population density of the lower level of the corresponding transition. Why would she think so? (It is not correct, but generally stellar absorption lines do get stronger at larger lower-level population. In this exercise we follow her example and assume that the scaling is linear.) \n",
    "\n",
    "* Use this expectation to give initial rough estimates of the strength ratios of the $\\alpha$ lines in the the H I Lyman, Balmer, Paschen and Brackett series. Use T=5000 K. \n",
    "\n",
    "* Explain from equations (1) and (3) why the Saha and Boltzmann distributions behave differently for increasing temperature. \n",
    "\n",
    "* Speculate how ionisation can fully deplete a stage (e.g. all atoms can transition from neutral to ionised) while excitation puts only a few atoms in levels just below the ionisation level. Hint: what is the limit of the Saha and Boltzman ratios for infinite temperature? \n",
    "\n",
    "</i>\n",
    "</div>"
   ]
  },
  {
   "cell_type": "markdown",
   "id": "239fc2fd",
   "metadata": {},
   "source": [
    "The wavelengths in the stellar spectrogram have the approximate range $\\lambda  \\in [3800, 5000]$ Å, which narrows them down to the Balmer series of neutral hydrogen. The Balmer $\\alpha$ line is outside of this range so we identify the four hydrogen lines as Ba $\\beta$ (H $\\beta$), Ba $\\gamma$ (H $\\gamma$), Ba $\\delta$ (H $\\delta$) and Ba $\\epsilon$ (H $\\epsilon$), from right to left in the spectrogram. This correspond to the Balmer series. The lower energy level for the Balmer series is $s=2$ and upper energy levels, are:\n",
    "\n",
    "* Ba $\\beta$: $s=4$\n",
    "* Ba $\\gamma$: $s=5$\n",
    "* Ba $\\delta$: $s=6$\n",
    "* Ba $\\epsilon$: $s=7$\n",
    "\n",
    "We find the energies at each level with $\\chi_{1,s} = 13.598(1-1/s^2)$ eV, and the central wavelength by calculating:\n",
    "\\begin{align*}\n",
    "    \\lambda = \\frac{hc}{\\chi_{1,\\Delta s}}\n",
    "\\end{align*}\n",
    "\n",
    "where $\\chi_{1,\\Delta s}$ is the difference in level energies."
   ]
  },
  {
   "cell_type": "markdown",
   "id": "c66695d8",
   "metadata": {},
   "source": [
    "<div style=\"background-color:#e6e6e6; padding:10px; border-style:\n",
    "solid;; border-color:#0d0d0d; border-width:1px\">\n",
    "\n",
    "This first section contains some repetition (you mention that they are part of the Balmer series a few times) and some quick grammatical typos, but otherwise nice! \n",
    "\n",
    "</div>"
   ]
  },
  {
   "cell_type": "markdown",
   "id": "f1d7da6c",
   "metadata": {},
   "source": [
    "<div style=\"background-color:#ffffe6; padding:10px; border-style:\n",
    "solid;; border-color:#e6e600; border-width:1px\">\n",
    "    Maybe you should mention where you got these formulas from. Also it is unclear what you have done with the $ \\Delta s $ in the last formula. It's not immidiatly clear that this is the difference in level energies.\n",
    "\n",
    "</div>"
   ]
  },
  {
   "cell_type": "code",
   "execution_count": null,
   "id": "d1392cdd",
   "metadata": {},
   "outputs": [],
   "source": [
    "chi_hydrogen = lambda s: 13.598 * (1 - 1/s**2) * e \n",
    "g_hydrogen = lambda s: 2 * s**2 \n",
    "\n",
    "def central_wl(s_high, s_low):\n",
    "    chi_high = chi_hydrogen(s_high)\n",
    "    chi_low = chi_hydrogen(s_low)\n",
    "    lmbda = h * c / (chi_high - chi_low)\n",
    "    return lmbda * 1e10 #return wavelength in units of Å\n",
    "\n",
    "#   nice print\n",
    "for s_high, name in zip([4,5,6,7], ['Ba β', 'Ba γ', 'Ba δ', 'Ba ε']):\n",
    "    cent_wav = central_wl(s_high, s_low=2)\n",
    "    print(f\"Central wavelength for {name}: {cent_wav:.2f} Å\")"
   ]
  },
  {
   "cell_type": "markdown",
   "id": "a35700c9",
   "metadata": {},
   "source": [
    "## Payne's assumption of strength ratios \n",
    "Payne's assumption was that the strength of absorption lines is proportional to the number density of the lower level population. This is reasonable since the more atoms we have at a given level, there will be more absorption of photons at specific wavelengths, contributing to the strength of the spectral lines. For a fixed number of an element, one may then expect the relative difference in strength of different absorption lines to be directly related to the relative difference in population density of the absorbers."
   ]
  },
  {
   "cell_type": "markdown",
   "id": "a2a90958",
   "metadata": {},
   "source": [
    "<div style=\"background-color:#ffffe6; padding:10px; border-style:\n",
    "solid;; border-color:#e6e600; border-width:1px\">\n",
    "    I think this is a good enough answer. But if you want more information read chapter 7 of Paynes Phd thesis \"Critical discussion of ionization theory\". Especially the sub-chapter \"Physical assumtions\".\n",
    "</div>"
   ]
  },
  {
   "cell_type": "markdown",
   "id": "9224f666",
   "metadata": {},
   "source": [
    "The Boltzmann distribution is given as \n",
    "\n",
    "\\begin{equation}\n",
    "    \\frac{n_{r,s}}{N_r} = \\frac{g_{r,s}}{U_r} e^{-\\chi_{r,s} / kT} \n",
    "\\end{equation}\n",
    "\n",
    "where $U_r$ is the partition function\n",
    "\n",
    "\\begin{equation}\n",
    "    U_r = \\sum_s g_{r,s} e^{-\\chi_{r,s}/kT}\n",
    "\\end{equation}\n",
    "\n",
    "Assuming a linear relationship between the strength of the absorption lines and the population densities, we have \n",
    "\n",
    "$$ \\text{strength} \\propto n_{r,s} = N_r \\frac{g_{r,s}}{U_r} e^{-\\chi_{r,s} / kT} $$\n",
    "\n",
    "For the $\\alpha$ lines in H I we have $r=1$. The strength ratio between two lines with levels $s$ and $t$ is thus given by $\\frac{n_{r,s}}{n_{r,t}}$ where the factors $N_r$ and $U_r$ cancels out, resulting in\n",
    "\n",
    "$$ \\frac{n_{r,s}}{n_{r,t}} = \\frac{g_{r,s}}{g_{r,t}} e^{-(\\chi_{r,s} - \\chi_{r,t})/kT} $$\n",
    "\n",
    "Rough estimates of the strength ratios between the different $\\alpha$ lines for H I is now done by computing the above ratio using the relevant combinations of $s,t\\in\\{1,2,3,4\\}$ for different series. We use a temperature of $T=5000\\,\\mathrm{K}$ for all ratios."
   ]
  },
  {
   "cell_type": "code",
   "execution_count": null,
   "id": "1da3150a",
   "metadata": {},
   "outputs": [],
   "source": [
    "def strength_ratio(s, t, temp=5000):\n",
    "    g_ratio = g_hydrogen(s) / g_hydrogen(t)\n",
    "    return g_ratio * np.exp(- (chi_hydrogen(s) - chi_hydrogen(t)) / (k_B * temp))\n",
    "\n",
    "print(f\"Ly/Ba: {strength_ratio(1,2):.2e}\")\n",
    "print(f\"Ly/Pa: {strength_ratio(1,3):.2e}\")\n",
    "print(f\"Ly/Br: {strength_ratio(1,4):.2e}\")\n",
    "print(f\"Ba/Pa: {strength_ratio(2,3):.2e}\")\n",
    "print(f\"Ba/Br: {strength_ratio(2,4):.2e}\")\n",
    "print(f\"Pa/Br: {strength_ratio(3,4):.2e}\")"
   ]
  },
  {
   "cell_type": "markdown",
   "id": "ac3ad7b8",
   "metadata": {},
   "source": [
    "<div style=\"background-color:#e6e6e6; padding:10px; border-style:\n",
    "solid;; border-color:#0d0d0d; border-width:1px\">\n",
    "\n",
    "Very nice! :D\n",
    "    \n",
    "For the title underneath this block: The wording could have been more precise; do you mean that the Saha and Boltzmann distributions have a high temperature dependency, or are you going to talk about the temperature dependency of the distributions at high temperatures? _(This is a very picky comment, but this whole text is great, so excuse me for commenting whenever I see something that could be improved even a little bit! )_ \n",
    "</div>"
   ]
  },
  {
   "cell_type": "markdown",
   "id": "d36a1d56",
   "metadata": {},
   "source": [
    "### High temperature dependence of Boltzmann and Saha distribution\n",
    "Before we consider the limiting temperature behaviour of the two distributions we will look at the partition function, given as \n",
    "\n",
    "$$ U_r = \\sum_s g_{r,s} e^{-\\chi_{r,s}/kT} $$\n",
    "\n",
    "The sum over $s$ goes to infinity, so for hydrogen with $g_{1,s}=2s^2$, the partition function will become infinitely large. However, we can set an upper limit on $s$ in the sum. We do this by requiring that the distance from the nucleus to the electron should not exceed the average distance between the atoms in the gas. Using the Bohr model, we can approximate the distance between the nucleaus and the electron at a given energy level as $r_s = s^2 a_0 /Z$, where $s$ is the energy level, $Z$ is the proton number and $a_0$ is the Bohr radius. For a gas with particle density $N$, assuming that the gas volume goes as $r^3$, we get $r\\propto N^{-1/3}$ as an average distance of atom separation. Comparing the two radii, we can solve for $s$ which gives an approximate value of $s_{\\mathrm{max}}$. \n",
    "\n",
    "$$ s_{\\mathrm{max}} \\sim \\sqrt{\\frac{Z}{a_0}} N^{-1/6} $$\n",
    "\n",
    "Summing over $s\\leq s_\\mathrm{max}$ will now ensure a converging value of $U_r$."
   ]
  },
  {
   "cell_type": "markdown",
   "id": "082c130f",
   "metadata": {},
   "source": [
    "<div style=\"background-color:#e6f3ff; padding:10px; border-style:\n",
    "solid;; border-color:#0084ff; border-width:1px\">\n",
    " Should be N $ ^{-1/6} $, just a comment\n",
    "</div>"
   ]
  },
  {
   "cell_type": "markdown",
   "id": "9809e43d",
   "metadata": {},
   "source": [
    "<div style=\"background-color:#e6e6e6; padding:10px; border-style:\n",
    "solid;; border-color:#0d0d0d; border-width:1px\">\n",
    "\n",
    "Great idea to define an upper bound on $s$! Good thinking about the avg. distance between the atoms in the gas.\n",
    "\n",
    "</div>"
   ]
  },
  {
   "cell_type": "markdown",
   "id": "0406aece",
   "metadata": {},
   "source": [
    "Having well behaved functions we will now proceed to consider high temperature behaviour of the Saha and Boltzmann distributions. Considering the limit $T \\to \\infty$ the Boltzmann law yields \n",
    "\n",
    "\n",
    "$$ \\lim_{T\\to\\infty} \\frac{n_{r,s}}{N_r} = \\lim_{T\\to\\infty} \\frac{g_{r,s}}{U_r} e^{-\\chi_{r,s} / kT} = \\frac{g_{r,s}}{\\sum_{s}g_{r,s}} $$\n",
    "where the Boltzmann factor in both the above expression and in the partition function approaches $1$ at infinite temperature. The partition function then becomes a sum over $g_{r,s}$. At a given ionization state, $r$, the population density in a level $s$ is now solely dependent on the statistical weight of said level. \n",
    "\n",
    "The Saha law is given by\n",
    "$$ \\frac{N_{r+1}}{N_r} =  \\frac{1}{N_e} \\frac{2 U_{r+1}}{U_r} \\left( \\frac{2\\pi m_e k T}{h^2} \\right)^{3/2} e^{-\\chi_r /kT} $$ \n",
    "\n",
    "Taking the high temperature limit yields  \n",
    "\n",
    "$$ \\lim_{T\\to\\infty} \\frac{N_{r+1}}{N_r} = \\lim_{T\\to\\infty} \\frac{1}{N_e} \\frac{2 \\sum_{s} g_{r+1,s}}{\\sum_{s} g_{r,s}} \\left( \\frac{2\\pi m_e k T}{h^2} \\right)^{3/2} \\propto \\lim_{T\\to\\infty} T^{5/2} = \\infty $$ \n",
    "\n",
    "where an extra factor of $T$ comes from the electron density, $1/N_e \\propto T$. We see that the Saha law ratio diverges at infinite temperature. This can interpreted as a full depletion of stage $r$, where all atoms now being in stage $r+1$ as they've become ionized. For the Boltzmann law, the high temperature limit of $n_{r,s}/N_r$ is only dependent on the statistical weight $g_{r,s}$. Thus, the number of atoms in levels below the ionisation level is governed by the statistical weight of the individual levels. Depending on the atom, this could result in only a small fraction of all atoms being in the highest excited neutral level.\n",
    "\n",
    "At large, non-infinite temperatures the Boltzmann law become less and less dependent on the temperature as both exponential terms are driven towards 1. The Saha law is much more temperature dependant. Thus, for higher temperatures the population of the ionization stage increase. If we were to have the same excitation and ionization energy, then at low temperatures both the ionization and excitation would be highly dependant on the temperature. For low temperatures we would expect more excitation. For higher temperatures, when the Boltzmann law become less dependant on temperature and more dependant on the statistical weights, we would expect a lot more ionization."
   ]
  },
  {
   "cell_type": "markdown",
   "id": "8d206440",
   "metadata": {},
   "source": [
    "<div style=\"background-color:#e6f3ff; padding:10px; border-style:\n",
    "solid;; border-color:#0084ff; border-width:1px\">\n",
    "  It was a good explanation. Try to add a little bit how Boltzman and Saha behaves if the temeprature is not infinity and you have the same excitation and ionization energy. What would you expect, what has a higher level population the ionization stage or the level population ?\n",
    "</div>"
   ]
  },
  {
   "cell_type": "markdown",
   "id": "efa300c1",
   "metadata": {},
   "source": [
    "<div style=\"background-color:#ffffe6; padding:10px; border-style:\n",
    "solid;; border-color:#e6e600; border-width:1px\">\n",
    "    Good explenation of the the limit on $s$ and good explenation on the infinite temperature limits of Boltzmann and Saha. But not much explenation of why they behave differently, other than the infinite $T$ limit. \n",
    "</div>"
   ]
  },
  {
   "cell_type": "markdown",
   "id": "a690afd1",
   "metadata": {},
   "source": [
    "### Exercise 2\n",
    "\n",
    "<div style=\"background-color:#e6ffe6; padding:10px; border-style:\n",
    "solid;; border-color:#00e600; border-width:1px\">  \n",
    "<i>\n",
    "\n",
    "* Using the simplified Ca atom (`Ca_atom.txt`), plot and discuss the temperature variation of the partition functions $U_r$ for the first four ionisation stages in the file. Look in the temperature range between 100 - 30,000 K. What can you say about the temperature dependence of $U_r$? \n",
    "    \n",
    "* Plot a \"Payne curve\" for the simplified Ca atom using a temperature range of 100 - 175,000 K. Start with $P_e$= 100 Pa and study how $P_e$ affects the diagram. What is going on? \n",
    "    \n",
    "* Make a separate figure with a Payne curve for an element of your choice. You can choose one of the existing model atoms, or you can use the [NIST atomic spectra database](https://physics.nist.gov/PhysRefData/ASD/levels_form.html) to build a model for any atom you'd like. How does it compare with Ca? \n",
    "\n",
    "</i>\n",
    "</div>"
   ]
  },
  {
   "cell_type": "code",
   "execution_count": null,
   "id": "0c37e6b2",
   "metadata": {},
   "outputs": [],
   "source": [
    "class Atom:\n",
    "    \"\"\"\n",
    "    Reads atomic data, calculates level populations according to Boltzmann's law,\n",
    "    and ionisation fractions according to Saha's law.\n",
    "    \"\"\"\n",
    "    \n",
    "    def __init__(self, atomfile=None):\n",
    "        \"\"\"\n",
    "        Parameters\n",
    "        ----------\n",
    "        atomfile : string, optional\n",
    "            Name of file with atomic data. If not present, atomic data needs\n",
    "            to be loaded with the .read_atom method.\n",
    "        \"\"\"\n",
    "        self.loaded = False\n",
    "        if atomfile:\n",
    "            self.read_atom(atomfile)\n",
    "        \n",
    "    def read_atom(self, filename):\n",
    "        \"\"\"\n",
    "        Reads atom structure from text file.\n",
    "        \n",
    "        Parameters\n",
    "        ----------\n",
    "        filename: string\n",
    "            Name of file with atomic data.\n",
    "        \"\"\"\n",
    "        self.filename = filename[:5]\n",
    "        print(self.filename)\n",
    "        tmp = np.loadtxt(filename, unpack=True)\n",
    "        self.n_stages = int(tmp[2].max()) + 1\n",
    "        # Get maximum number of levels in any stage\n",
    "        self.max_levels = 0\n",
    "        for i in range(self.n_stages):\n",
    "            self.max_levels = max(self.max_levels, (tmp[2] == i).sum())\n",
    "        # Populate level energies and statistical weights\n",
    "        # Use a square array filled with NaNs for non-existing levels\n",
    "        chi = np.empty((self.n_stages, self.max_levels))\n",
    "        chi.fill(np.nan)\n",
    "        self.g = np.copy(chi)\n",
    "        for i in range(self.n_stages):\n",
    "            nlevels = (tmp[2] == i).sum()\n",
    "            chi[i, :nlevels] = tmp[0][tmp[2] == i]\n",
    "            self.g[i, :nlevels] = tmp[1][tmp[2] == i]\n",
    "        # Put units, convert from cm-1 to Joule\n",
    "        chi = (chi / units.cm).to('aJ', equivalencies=units.spectral())\n",
    "        # Save ionisation energies, saved as energy of first level in each stage\n",
    "        self.chi_ion = chi[:, 0].copy()\n",
    "        # Save level energies relative to ground level in each stage\n",
    "        self.chi = chi - self.chi_ion[:, np.newaxis]\n",
    "        self.loaded = True\n",
    "        \n",
    "    def compute_partition_function(self, temperature):\n",
    "        \"\"\"\n",
    "        Computes partition functions using the atomic level energies and\n",
    "        statistical weights.\n",
    "        \n",
    "        Parameters\n",
    "        ----------\n",
    "        temperature: astropy.units.quantity (scalar or array)\n",
    "            Gas temperature in units of K or equivalent.\n",
    "        \"\"\"\n",
    "        if not self.loaded:\n",
    "            raise ValueError(\"Missing atom structure, please load atom with read_atom()\")\n",
    "        temp = temperature[np.newaxis, np.newaxis]  # to allow broadcast\n",
    "        return np.nansum(self.g[..., np.newaxis] * \n",
    "                            np.exp(-self.chi[..., np.newaxis] / \n",
    "                                      constants.k_B / temp), axis=1)\n",
    "    \n",
    "    def compute_excitation(self, temperature):\n",
    "        \"\"\"\n",
    "        Computes the level populations relative to the ground state,\n",
    "        according to the Boltzmann law.\n",
    "        \n",
    "        Parameters\n",
    "        ----------\n",
    "        temperature: astropy.units.quantity (scalar or array)\n",
    "            Gas temperature in units of K or equivalent.\n",
    "        \"\"\"\n",
    "        pfunc = self.compute_partition_function(temperature)\n",
    "        # Reshape arrays to allow broadcast\n",
    "        temp = temperature[np.newaxis, np.newaxis]\n",
    "        g_ratio = self.g[..., np.newaxis] / pfunc[:, np.newaxis]  # relative to total number of atoms in this stage\n",
    "        chi = self.chi[..., np.newaxis]\n",
    "        return g_ratio * np.exp(-chi / (constants.k_B * temp))\n",
    "       \n",
    "    def compute_ionisation(self, temperature, electron_pressure):\n",
    "        \"\"\"\n",
    "        Computes ionisation fractions according to the Saha law.\n",
    "        \n",
    "        Parameters\n",
    "        ----------\n",
    "        temperature: astropy.units.quantity (scalar or array)\n",
    "            Gas temperature in units of K or equivalent.\n",
    "        electron_pressure: astropy.units.quantity (scalar)\n",
    "            Electron pressure in units of Pa or equivalent.\n",
    "        \"\"\"\n",
    "        partition_function = self.compute_partition_function(temperature)\n",
    "        electron_density = electron_pressure / (constants.k_B * temperature)\n",
    "        saha_const = ((2 * np.pi * constants.m_e * constants.k_B * temperature) / \n",
    "                      (constants.h ** 2)) ** (3 / 2)\n",
    "        nstage = np.zeros_like(partition_function) / units.m ** 3\n",
    "        nstage[0] = 1. / units.m ** 3\n",
    "        # Below we use the values for ionisation energies that are saved\n",
    "        # in the first index of each excited state: self.chi[r + 1, 0]\n",
    "        for r in range(self.n_stages - 1):\n",
    "            nstage[r + 1] = (nstage[r] / electron_density * 2 * saha_const *\n",
    "                             partition_function[r + 1] / partition_function[r] * \n",
    "                             np.exp(-self.chi_ion[r + 1, np.newaxis] / \n",
    "                                       (constants.k_B * temperature[np.newaxis])))\n",
    "        # nansum is needed because the last stage might have only one level\n",
    "        # (only ionisation potential)\n",
    "        return nstage / np.nansum(nstage, axis=0)\n",
    "\n",
    "    def compute_populations(self, temperature, electron_pressure):\n",
    "        \"\"\"\n",
    "        Computes relative level populations for all levels and all\n",
    "        ionisation stages using the Bolzmann and Saha laws.\n",
    "        \n",
    "        Parameters\n",
    "        ----------\n",
    "        temperature: astropy.units.quantity (scalar or array)\n",
    "            Gas temperature in units of K or equivalent.\n",
    "        electron_pressure: astropy.units.quantity (scalar)\n",
    "            Electron pressure in units of Pa or equivalent.\n",
    "        \"\"\"\n",
    "        return (self.compute_excitation(temperature) * \n",
    "                self.compute_ionisation(temperature, electron_pressure)[:, np.newaxis])\n",
    "\n",
    "\n",
    "    def plot_partition_function(self, temperature):\n",
    "        \"\"\"\n",
    "        Need ax infos.\n",
    "        \"\"\"\n",
    "        U = self.compute_partition_function(temperature)\n",
    "        fig, ax = plt.subplots()\n",
    "        for r in range(4):\n",
    "            ax.plot(temperature, U[r], label=f'r={r+1:.0f}')\n",
    "        atom_title = f'for the {self.filename[:2]} atom'\n",
    "        ax.set_title('Partition function of the first four ionization stages \\n' + atom_title)\n",
    "        ax.set_xlabel('Temperature [K]')\n",
    "        ax.set_ylabel(r'$U_r$')\n",
    "        ax.grid()\n",
    "        plt.legend()\n",
    "        plt.show()\n",
    "\n",
    "\n",
    "    def plot_payne(self, temperature, electron_pressure):\n",
    "        pops = self.compute_populations(temperature, electron_pressure)\n",
    "        fig, ax = plt.subplots()\n",
    "        ax.plot(np.tile(temperature, (self.n_stages,1)).T, pops[:,0].T, 'b-')\n",
    "        ax.plot([],[], 'b-', label='s=1')\n",
    "        n_levels = self.chi[0].shape[0]\n",
    "        if n_levels > 1:\n",
    "            ax.plot(np.tile(temperature, (self.n_stages,1)).T, pops[:,1].T, 'r--')\n",
    "            ax.plot([],[], 'r--', label='s=2')\n",
    "        if n_levels > 2:\n",
    "            ax.plot(np.tile(temperature, (self.n_stages,1)).T, pops[:,2].T, 'k:')\n",
    "            ax.plot([],[], 'k:', label='s=3')\n",
    "\n",
    "        ax.set_yscale('log')\n",
    "        ax.set_ylim(1e-6, 1.1)\n",
    "        ax.set_xlabel('Temperature [K]')\n",
    "        ax.set_ylabel('Populations')\n",
    "        ax.set_title(fr'Payne Curve for {self.filename[0:2]} with electron pressure $P_a=${electron_pressure:.2e}')\n",
    "        ax.legend()"
   ]
  },
  {
   "cell_type": "markdown",
   "id": "c4d9e39b",
   "metadata": {},
   "source": [
    "<div style=\"background-color:#e6e6e6; padding:10px; border-style:\n",
    "solid;; border-color:#0d0d0d; border-width:1px\">\n",
    "\n",
    "This cell is awkwardly long (though of course required in this project) and has no clear place in the document. It is fine to place it here, but it might also be an idea to put this cell at the top of the document, so that it doesn't break up the text. \n",
    "\n",
    "</div>"
   ]
  },
  {
   "cell_type": "markdown",
   "id": "c91db283",
   "metadata": {},
   "source": [
    "We now make a plot of the partition functions for the first four ionization stages of the simplified Ca atom for temperatures of $T\\in[100,\\,30\\cdot 10^3]\\,\\mathrm{K}$"
   ]
  },
  {
   "cell_type": "code",
   "execution_count": null,
   "id": "579d289c",
   "metadata": {},
   "outputs": [],
   "source": [
    "Ca = Atom(\"Ca_atom.txt\")\n",
    "T_part_func = np.linspace(100, int(3e4), int(1e4)) * units.K\n",
    "Ca.plot_partition_function(temperature=T_part_func)"
   ]
  },
  {
   "cell_type": "markdown",
   "id": "e7a28f12",
   "metadata": {},
   "source": [
    "<div style=\"background-color:#e6e6e6; padding:10px; border-style:\n",
    "solid;; border-color:#0d0d0d; border-width:1px\">\n",
    "\n",
    "The title here has a little typo. Otherwise nice plot.\n",
    "\n",
    "</div>"
   ]
  },
  {
   "cell_type": "markdown",
   "id": "91d10aac",
   "metadata": {},
   "source": [
    "Initially, the partition functions are dominated by the value of $g_{r,s}$ at the lowest level in each state, since $\\chi=0$ at these levels. For $r=1,2,3,4$ we have $g_{r,s}=1,2,1,4$, respectively, yielding the starting point of each curve. The remaining terms are strongly suppressed by the exponential term for low temperature values. When temperature increases higher values of $\\chi_{r,s}$ will eventually start contributing to $U_r$. Ionisation stages having a small energy difference between the ground state and the first excited state, $\\Delta \\chi_{r}\\equiv \\chi_{r,s=2}-\\chi_{r,s=1}$, will have an increase in $U_r$ at lower temperatures. We print $\\Delta\\chi_r$ for the first four ionisation stages."
   ]
  },
  {
   "cell_type": "code",
   "execution_count": null,
   "id": "5552eb03",
   "metadata": {},
   "outputs": [],
   "source": [
    "print('Delta chi for the first four ionisation stages:')\n",
    "for i in range(4):\n",
    "    print(f'r={i+1:.0f}: ', f\"{Ca.chi[i,1]:.3e}\")"
   ]
  },
  {
   "cell_type": "markdown",
   "id": "29d907e2",
   "metadata": {},
   "source": [
    "$\\Delta\\chi_4$ is by far the lowest value, which is expected, due to $U_4$ being the partition function that increases at the lowest temperature value. We have that $r=1$ is the ground state, so for $r=3$, the energy difference is larger than the other stages by more than a factor $10$. As a result, there is no apparent change in $U_3$ for the temperature range we consider. For $r=1$ and $r=2$ we get an increase in the same temperature domain, as their energy differences are comparable in size. By increasing the temperature further, higher values of $\\chi_{r,s}$ will eventually contribute to the sum, causing $U_r$ to increase further. \n",
    "\n",
    "The second factor to consider are the different values of $g_{r,s}$. When new values of $\\chi_{r,s}$ start contributing, their corresponding values of $g_{r,s}$ determines how large of a contribution one gets. For $r=4$ we have $g_{4,1}=4$ and $g_{4,2}=2$, so the increase of $U_4$ is slow at first, and eventually halts, as the temperature never reaches a value where higher levels become important. For $r=2$ the levels $s=2$ and $s=3$ starts to affect $U_2$ for similar temperature values, and their combined statistical weight is $g=10$, and we get a steeper increase in $U_2$ that also lasts longer.  \n",
    "\n",
    "In general, the partition functions for the various stages will eventually increase at higher temperatures. As it reaches a certain level, it will converge to a final value as previously discussed."
   ]
  },
  {
   "cell_type": "markdown",
   "id": "062cb619",
   "metadata": {},
   "source": [
    "<div style=\"background-color:#e6f3ff; padding:10px; border-style:solid;; border-color:#0084ff; border-width:1px\">\n",
    "Nice discussion. For clarity, you could more explicitly mention that r=1 is for the neutral ionisation stage. \n",
    "</div>"
   ]
  },
  {
   "cell_type": "markdown",
   "id": "b2a604d7",
   "metadata": {},
   "source": [
    "<div style=\"background-color:#ffffe6; padding:10px; border-style:\n",
    "solid;; border-color:#e6e600; border-width:1px\">\n",
    "    You have not plotted for the first four ionization levels, but rather the neutral stage and the first three. $r=1$ is the neutral stage. Other than that the explenation of the behaviour of $U_r(T)$ was good. \n",
    "</div>"
   ]
  },
  {
   "cell_type": "markdown",
   "id": "27223555",
   "metadata": {},
   "source": [
    "Next, we want to plot some Payne curves for Calcium. The particle density at each ionisation stage, $N_r$, is normalized the plot represents the population densities as a fraction of total elements, i.e. $n_{r,s}/N_{\\mathrm{Ca,tot}}$. We plot the Payne curves for $T\\in[100,\\,175\\cdot 10^3]\\,\\mathrm{K}$ and include the first three energy levels at each stage. To see how the electron pressure affects the curves, we will use $P_e=100\\,\\mathrm{Pa}$ at first and increase to $P_e=1\\,\\mathrm{MPa}$."
   ]
  },
  {
   "cell_type": "code",
   "execution_count": null,
   "id": "d559bd87",
   "metadata": {},
   "outputs": [],
   "source": [
    "T_payne = np.linspace(100, int(175e3), int(1e4)) * units.K\n",
    "electron_pressure = 100 * units.Pa\n",
    "Ca.plot_payne(T_payne, electron_pressure)\n",
    "Ca.plot_payne(T_payne, electron_pressure*1e4)"
   ]
  },
  {
   "cell_type": "markdown",
   "id": "7e48a3fe",
   "metadata": {},
   "source": [
    "<div style=\"background-color:#e6f3ff; padding:10px; border-style:\n",
    "solid;; border-color:#0084ff; border-width:1px\">\n",
    "  The figure title \"Payne Curve for om ..\", I think it should mean Ca.\n",
    "  Same for the plot below\n",
    "</div>"
   ]
  },
  {
   "cell_type": "markdown",
   "id": "3c7c445d",
   "metadata": {},
   "source": [
    "Above, we see the resulting Payne curves for the different stages of first three excitation levels, $s=1,\\, 2,\\, 3$, of Calcium using $P_e=100\\,\\mathrm{Pa}$ in the upper panel, and $P_a=10^6 \\,\\mathrm{Pa}$ in the lower panel. For the upper panel all Calcium is neutral and in its ground state to begin with, but this fraction rapidly drops when reaching temperatures where singly ionized Calcium becomes dominant. For higher temperatures, excitation also plays an important role, as is evident for singly ionized Calcium, where a notable fraction of the population comes from $s=2$ and $s=3$. As temperature increases the different ionization stages overlap, and single ionization levels cease to dominate the entire population by themselves. \n",
    "\n",
    "Due to this overlap between different ionisation stages and the excited states of each stage, the dominance of individual ionisation stages (and its excited states) falls off gradually. As a result, at a given temperature there are mostly 1-2 ionisations stages that are dominant. The ground state is always the most dominant state. . However, the trend is that once the temperature becomes significantly high the contribution of the different ionisation states becomes effectively zero, as predicted by the large temperature limit of the Saha equation.\n",
    "\n",
    "Similar behaviour is also seen in the lower panel, where the electron pressure is increased by a factor $10^4$. In general we see that the different stages persist for much higher temperatures compared to the previous plot. For $s=1$ the individual curves are spread out over larger temperatures ranges, but are relatively similar in shape otherwise. Much higher temperatures are needed in order for ionization to occur in this case. When we increase the electron pressure we essentially increase the number density of surrounding electrons. A high density of electrons yields an increased Coulomb force on electrons in the atom and a higher energy is required to overcome the Coulomb potential and thus ionize the atoms. This can be seen from the populations of singly and doubly ionized Calcium, where both stages have excited states that are notably more abundant than before. For doubly ionized Calcium, the energy required to excite electrons is so high that for $P_e=100\\,\\mathrm{Pa}$ the stage was largely ionized before any excitation took place. With increased electron pressure, the stage now consist of a relatively large fraction of excited states."
   ]
  },
  {
   "cell_type": "markdown",
   "id": "a1013dfb",
   "metadata": {},
   "source": [
    "<div style=\"background-color:#e6f3ff; padding:10px; border-style:solid;; border-color:#0084ff; border-width:1px\">\n",
    "Good discussion. You note \"there might be a huge mix of different ionisations and excitation states\", however, this plot is with logarithmic scale so in practice, it is mostly 2 ionisation stages that are dominant at a given temperature.   \n",
    "\n",
    "It is also good to explicitly note that the ground state is always the dominant state. \n",
    "</div>"
   ]
  },
  {
   "cell_type": "markdown",
   "id": "b140e6cd",
   "metadata": {},
   "source": [
    "<div style=\"background-color:#e6e6e6; padding:10px; border-style:\n",
    "solid;; border-color:#0d0d0d; border-width:1px\">\n",
    "\n",
    "Very good points! Good that you mention how the Coloumb force is the reason behind the increased energy requirement for ionization. \n",
    "    \n",
    "Once again, the plot titles have the same typo as before.\n",
    "\n",
    "</div>"
   ]
  },
  {
   "cell_type": "markdown",
   "id": "39b3beaf",
   "metadata": {},
   "source": [
    "We now plot Payne curves for Sodium, using $P_e=100\\,\\mathrm{Pa}$. Having only three stages for this atom we use a temperature range $T\\in[100,\\,10^5]\\,\\mathrm{K}$ to better resolve the temperature dependecy."
   ]
  },
  {
   "cell_type": "code",
   "execution_count": null,
   "id": "3fbea9aa",
   "metadata": {},
   "outputs": [],
   "source": [
    "Na = Atom(\"Na_atom.txt\")\n",
    "# print(Ca.chi)\n",
    "T_payne_Na = np.linspace(100, 100*int(1e3), int(1e4)) * units.K\n",
    "Na.plot_payne(T_payne_Na, electron_pressure)"
   ]
  },
  {
   "cell_type": "markdown",
   "id": "0267c8a3",
   "metadata": {},
   "source": [
    "For Sodium, we get similar Payne curves as we did for Calcium. It starts out in the neutral ground state, with excited states becoming present as temperature increases. The ionisation energy is not much higher than the neutral excitation energies, so ionisation begins when the temperature is increased further. However, there are numerous neutral energy levels contributing near $T\\sim 5000\\,\\mathrm{K}$, but there is a large energy gap between the ground state and first excited state of singly ionised Sodium. This causes the slow decline of the neutral Sodium populations, and it's not until the temperature surpasses $T\\sim20\\,000\\,\\mathrm{K}$ that Sodium is mostly singly ionised. When excitation of singly ionised Sodium atoms become relevant, second ionisation becomes important, and as temperature rises even further, there is eventually a slow decaying population of singly ionised Sodium atoms, until the final ionisation stage takes over completely. If we compare the above plot to the plot for Calsium, we notice that the population of excited sodium is far less than the population of the ground state. An interpretation of this is that the ground state is far more dominant for sodium than it is for calsium. "
   ]
  },
  {
   "cell_type": "markdown",
   "id": "4aa510e9",
   "metadata": {},
   "source": [
    "<div style=\"background-color:#e6f3ff; padding:10px; border-style:solid;; border-color:#0084ff; border-width:1px\">\n",
    "It is good to explicitly mention the much lower population of the excited levels for Na as compared to Ca. For Na, the ground states are much more dominant than for Ca. \n",
    "</div>"
   ]
  },
  {
   "cell_type": "markdown",
   "id": "2b48241f",
   "metadata": {},
   "source": [
    "<div style=\"background-color:#e6f3ff; padding:10px; border-style:\n",
    "solid;; border-color:#0084ff; border-width:1px\">\n",
    "  Good explanation of the Payne curve and their relation to the different atomic structure. Some of the sentences are still a little bit confusing but I get what you want to tell.\n",
    "</div>"
   ]
  },
  {
   "cell_type": "markdown",
   "id": "859eb1d4",
   "metadata": {},
   "source": [
    "<div style=\"background-color:#ffffe6; padding:10px; border-style:\n",
    "solid;; border-color:#e6e600; border-width:1px\">\n",
    "All the plot titles have an error where they say \"om\" instead of the atom name. \n",
    "</div>"
   ]
  },
  {
   "cell_type": "markdown",
   "id": "9e8859cb",
   "metadata": {},
   "source": [
    "### Exercise 3\n",
    "\n",
    "<div style=\"background-color:#e6ffe6; padding:10px; border-style:\n",
    "solid;; border-color:#00e600; border-width:1px\">  \n",
    "<i>\n",
    "\n",
    "* Explain qualitatively why the solar $\\text{Ca}^+$ K line is much stronger than the solar H $\\alpha$ line, even though hydrogen is not ionised in the solar photosphere and low chromosphere ($T \\approx$ 4000 - 6000 K) where these lines are formed, and calcium is far less abundant than hydrogen in the Sun: the Ca/H abundance ratio is only $N_\\mathrm{Ca}/N_\\mathrm{H} = 2 \\times 10^{−6}$. Assume again that the observed line strength scales with the lower-level population density (which it does, although nonlinearly through a \\\"curve of growth\\\" as you will see in Project 2).\n",
    "    \n",
    "* Prove your explanation by computing and plotting the expected strength ratio of these two lines as function of temperature for $P_e = 10^2$ dyne cm $^{-2}$. Make use of `H_atom.txt` and `Ca_atom.txt`. \n",
    "    \n",
    "* The relative population change $(\\Delta n / \\Delta T) / n$ is useful to to diagnose the temperature sensitivity of the populations of a given atomic stage. Plot in a log scale the relative population changes for the lower levels of $\\text{Ca}^+$ K and H $\\alpha$ vs. temperature, using  $\\Delta T=$ 1 K. Around $T=$ 5600 K the $\\text{Ca}^+$ K curve dips down to very  small values; the H $\\alpha$ curve does that around $T=$ 9500  K. Thus, at $T \\approx$ 5600 K the temperature sensitivity of $\\text{Ca}^+$ K is much smaller than the temperature sensitivity of H $\\alpha$. Compare these plots with plots of the populations of the lower levels for the two lines (normalise them to the maximum value of each for easier comparison). You should find that the population plots have a peak and two flanks. Explain each flank of the population plots and the dips in the temperature sensitivity plots.\n",
    "\n",
    "* Find at which temperature the hydrogen in stellar photospheres with $P_e =$ 10 Pa is about 50% ionised. Plot the neutral and ionised fractions of hydrogen as a function of temperature.\n",
    "\n",
    "</i>\n",
    "</div>"
   ]
  },
  {
   "cell_type": "markdown",
   "id": "b4fc6cd1",
   "metadata": {},
   "source": [
    "Even though Hydrogen is far more abundant than Calcium in the sun, with a ratio of $N_\\mathrm{Ca}/N_\\mathrm{H}=2\\cdot 10^{-6}$, the $\\mathrm{Ca^+ K}$ line is much stronger than the $\\mathrm{H \\alpha}$ line in the sun, because we assume that spectral lines scales with the lower level population density. The overall abundance will affect the lower level population density. However, for $\\mathrm{Ca^+ K}$, we must consider the abundance of singly ionized Calcium in the ground state. For Balmer $\\alpha$, the population to consider is that of the first excited state of neutral Hydrogen. The energy required to singly ionize calsium is less than what is required to excite the hydrogen atom. Thus, the population density in the ground state of $\\mathrm{Ca^+ K}$ is greater than that of the first excited stage of $\\mathrm{H}$. As a result the $\\mathrm{Ca^+ K}$ line is stronger than the $\\mathrm{Ba \\;\\alpha}$ line."
   ]
  },
  {
   "cell_type": "markdown",
   "id": "07e30596",
   "metadata": {},
   "source": [
    "<div style=\"background-color:#e6f3ff; padding:10px; border-style:\n",
    "solid;; border-color:#0084ff; border-width:1px\">\n",
    "  The sentence with then ending, \"not the total abundance of individual elements\" is wrong because the lower level population of a transition depends on the abundance."
   ]
  },
  {
   "cell_type": "markdown",
   "id": "126c09cf",
   "metadata": {},
   "source": [
    "<div style=\"background-color:#e6e6e6; padding:10px; border-style:\n",
    "solid;; border-color:#0d0d0d; border-width:1px\">\n",
    "\n",
    "Good and concise explaination.\n",
    "\n",
    "</div>"
   ]
  },
  {
   "cell_type": "markdown",
   "id": "f9ae0c9f",
   "metadata": {},
   "source": [
    "When we compute the populations of $\\mathrm{Ca^+ K}$ in the `Atom` class we normalize it with the total number of Calcium atoms. We denote the relative population of $\\mathrm{Ca^+ K}$ as \n",
    "$$P(\\mathrm{Ca^+ K})=\\frac{n_\\mathrm{Ca^+ K}}{ N_\\mathrm{Ca}}$$\n",
    "where $N_\\mathrm{Ca}$ denotes the total number of Calcium atoms and $n_\\mathrm{Ca^+ K}$ denotes the population density of the ground state of singly ionized Calcium. Similarly, we denote $n_\\mathrm{H \\alpha}$ as the number density of neutral Hydrogen in the first excited state and $N_\\mathrm{H}$ as the total number of Hydrogen atoms. The ratio between the population densities of $n_\\mathrm{Ca^+ K}$ and $n_\\mathrm{H \\alpha}$ become \n",
    "\n",
    "\n",
    "$ \\frac{n_\\mathrm{Ca^+ K}}{n_\\mathrm{H \\alpha}} = \\frac{P(\\mathrm{Ca^+ K})}{P(\\mathrm{H \\alpha})}\\cdot \\frac{N_\\mathrm{Ca}}{N_\\mathrm{H}} = \\frac{P(\\mathrm{Ca^+ K})}{P(\\mathrm{H \\alpha})} \\cdot 2\\cdot 10^{-6} $"
   ]
  },
  {
   "cell_type": "markdown",
   "id": "e94253a5",
   "metadata": {},
   "source": [
    "We then plot this ratio for a range of temperatures $T\\in[1, 20] \\cdot 10^3$ K"
   ]
  },
  {
   "cell_type": "code",
   "execution_count": null,
   "id": "08967cbf",
   "metadata": {},
   "outputs": [],
   "source": [
    "#   strength ratio comparison\n",
    "H = Atom(\"H_atom.txt\")\n",
    "T_chrom = np.linspace(1e3, 20e3, int(1e4)) * units.K \n",
    "Pe_chrom = 1e2 * units.dyn * units.cm**(-2) \n",
    "\n",
    "Halpha_pop = H.compute_populations(T_chrom, Pe_chrom)[0,1,:]\n",
    "Ca_II_pop = Ca.compute_populations(T_chrom, Pe_chrom)[1,0,:]\n",
    "\n",
    "n_ratio = (Ca_II_pop / Halpha_pop) * 2e-6\n",
    "\n",
    "plt.plot(T_chrom, n_ratio, ls=\"-\", color=\"blue\", label=r\"$\\frac{n_\\mathrm{Ca^+ K}}{n_\\mathrm{H \\alpha}}$\")\n",
    "plt.yscale('log')\n",
    "title1 = r'Expected strength ratio between Ca II K and H$\\alpha$' \n",
    "title2 = 'assuming strength proportional to population density'\n",
    "plt.title(title1 + '\\n' + title2)\n",
    "plt.ylabel(r'Density ratio of Ca$^+$ and H $\\alpha$, $n_{Ca^+} / n_{H \\alpha}$')\n",
    "plt.xlabel('Temperature [K]')\n",
    "plt.axvline(4000, ls=\"--\", lw=1, color=\"red\", label=r\"$T\\in[4,6]\\cdot 10^3$ K\")\n",
    "plt.axvline(6000, ls=\"--\", lw=1, color=\"red\")\n",
    "plt.axhline(1, ls=\"--\", lw=1, color=\"black\", label=r\"$\\frac{n_\\mathrm{Ca^+ K}}{n_\\mathrm{H \\alpha}}=1$\")\n",
    "plt.legend(fontsize=\"x-large\")\n",
    "plt.show()\n"
   ]
  },
  {
   "cell_type": "markdown",
   "id": "39901450",
   "metadata": {},
   "source": [
    "<div style=\"background-color:#e6e6e6; padding:10px; border-style:\n",
    "solid;; border-color:#0d0d0d; border-width:1px\">\n",
    "\n",
    "Very nice plot, but it might be better to scrap the title and instead describe what the plot shows underneath? But that might just be my personal preference.\n",
    "    \n",
    "(Also, if you want an easy way to make a box that spans from $[4-6] *10^3$, you can use `plt.axvspan(4e3, 6e3)`)\n",
    "\n",
    "</div>"
   ]
  },
  {
   "cell_type": "markdown",
   "id": "401454b6",
   "metadata": {},
   "source": [
    "We see from the figure above that for the chromospheric temperature range marked with red dashed lines, the ratio of $\\mathrm{Ca^+ K}$ to $\\mathrm{H} \\alpha$ is significantly larger than 1. Thus it makes sense that the line of $\\mathrm{Ca^+ K}$ is stronger, as predicted. At higher temperatures the ratio drops below 1, meaning that the abundance of hydrogen excited to the first level becomes greater than the abundance of singly ionised calsium. This is also to be expected since higher temperatures yield more excited hydrogen atoms. Higher temperature also means that much of the Calsium is further ionised as seen from the Payne curves."
   ]
  },
  {
   "cell_type": "markdown",
   "id": "20bdef17",
   "metadata": {},
   "source": [
    "To study the temperature sensitivity of two populations we have considered, we will plot the normalized relative population change $(\\Delta n / \\Delta T)/n$ for the two populations, using $\\Delta T=1$ for simplicity. We also plot the two normalized population densities for comparison."
   ]
  },
  {
   "cell_type": "code",
   "execution_count": null,
   "id": "15ae95c2",
   "metadata": {},
   "outputs": [],
   "source": [
    "T_sensitivity = np.linspace(2e3, 20e3, int(1e4)) * units.K\n",
    "\n",
    "def rel_pop_change(t,p, type=None):\n",
    "    if type==\"Ca\":\n",
    "        pop = Ca.compute_populations(t, p)[1,0,:]\n",
    "        pop_p1 = Ca.compute_populations(t + 1*units.K, p)[1,0,:]\n",
    "    elif type==\"H\":\n",
    "        pop = H.compute_populations(t, p)[0,1,:]\n",
    "        pop_p1 = H.compute_populations(t + 1*units.K, p)[0,1,:]\n",
    "    else:\n",
    "        return None \n",
    "    \n",
    "    rel_pop_change = np.abs(pop_p1 - pop) / pop #should also divide with delta T here, but since delta T=1 we neglect that for this specific case. \n",
    "    return rel_pop_change / np.max(rel_pop_change)\n",
    "\n",
    "CaII_rel_pop_change = rel_pop_change(T_sensitivity, Pe_chrom, type=\"Ca\") \n",
    "Ha_rel_pop_change = rel_pop_change(T_sensitivity, Pe_chrom, type=\"H\") \n",
    "plt.title(\"Relative population change as function of temperature\")\n",
    "plt.xlabel(\"Temperature [K]\")\n",
    "plt.ylabel(r\"Normalised relative population change $ \\Delta n/\\Delta T/n$\")\n",
    "plt.plot(T_sensitivity, CaII_rel_pop_change, color='blue', label=r'$\\mathrm{Ca^+ K}$')\n",
    "plt.plot(T_sensitivity, Ha_rel_pop_change, color='red', label=r'$H \\alpha$')\n",
    "plt.yscale('log')\n",
    "plt.legend()\n",
    "plt.show()\n",
    "\n",
    "print(f\"Temperature of Halpha curve dip: {T_sensitivity[np.argmin(Ha_rel_pop_change)]:.0f}\")\n",
    "print(f\"Temperature of CaII K curve dip: {T_sensitivity[np.argmin(CaII_rel_pop_change)]:.0f}\")"
   ]
  },
  {
   "cell_type": "markdown",
   "id": "cdc8f71a",
   "metadata": {},
   "source": [
    "<div style=\"background-color:#e6f3ff; padding:10px; border-style:\n",
    "solid;; border-color:#0084ff; border-width:1px\">\n",
    "\n",
    "You forgot to divide the rel_pop_change by delta:\n",
    "    \n",
    "diff_ca = (n_ca1 - n_ca2) / (dT * n_ca1)\n",
    "    \n",
    "But it will make no difference in the result.\n",
    "    \n",
    "<div>"
   ]
  },
  {
   "cell_type": "code",
   "execution_count": null,
   "id": "d5e60c8b",
   "metadata": {},
   "outputs": [],
   "source": [
    "T_pops = np.linspace(2e3, 20e3, int(1e4)) * units.K \n",
    "Halpha_pop_2 = H.compute_populations(T_pops, Pe_chrom)[0,1,:]\n",
    "Ca_II_pop_2 = Ca.compute_populations(T_pops, Pe_chrom)[1,0,:]\n",
    "plt.title(\"Normalized population density as function of temperature\")\n",
    "plt.xlabel(\"Temperature [K]\")\n",
    "plt.ylabel(r\"Relative population\")\n",
    "plt.plot(T_pops, Ca_II_pop_2 / Ca_II_pop_2.max(), color='blue', label=r'$\\mathrm{Ca^+ K}$')\n",
    "plt.plot(T_pops, Halpha_pop_2 / Halpha_pop_2.max(), color='red', label=r'$H \\alpha$')\n",
    "plt.legend()\n",
    "# plt.yscale('log')\n",
    "plt.show()\n",
    "\n",
    "print(f\"Temperature of Halpha curve peak: {T_pops[np.argmax(Halpha_pop_2)]:.0f}\")\n",
    "print(f\"Temperature of CaII K curve peak: {T_pops[np.argmax(Ca_II_pop_2)]:.0f}\")"
   ]
  },
  {
   "cell_type": "markdown",
   "id": "ebfc618e",
   "metadata": {},
   "source": [
    "We see from the two plots above that the relative population changes and the relative population densities have extremum points at the same temperatures. The largest change in population densities for Calcium occurs at $T\\sim[4\\,000,\\,5\\,000]\\,\\mathrm{K}$, but this is supressed by the significant high populations at these temperatures. The dips in the temperature sensitivity plots occur because of the high relative population (and we measure relative population change per population), and because the population goes from increasing to decreasing in this point, so the derivative is zero. \n",
    "\n",
    "The left flank in the population densities is for low temperatures, where little Calsium have been ionised to obtain $\\mathrm{Ca^+ K}$ and Hydrogen is yet to be excited to get $H \\alpha$. Thus their population of both remains low. We then get enough energy to ionise calsium, the population reach a peak and then declines slowly. This slow decline is due to excitation of singly ionised Calsium. Once Calsium starts becoming doubly ionised the population rapidly falls towards zero (starts at $T\\approx 11000$ K). \n",
    "\n",
    "Excited hydrogen starts to occur at $T\\approx 6000$ K, and near $T\\approx 7500\\,\\mathrm{K}$ it rapidly increases to a maximum value. At temperatures beiynd $10\\cdot 10^3\\,\\mathrm{K}$ other excitation stages become relevant, so the population density gradually declines. \n",
    "\n",
    "Since the excited states of Hydrogen have a larger statistical weight than the ground state they quickly become dominant once we reach the appropriate temperatures. The decline is more slow, as Hydrogen is gradually being ionized (as we will show below). \n",
    "\n",
    "We can use this information to say something about the temperature of the star. If we observe strong $H\\alpha$-lines, this indicates temperatures greater than if we observed strong $\\mathrm{Ca^+ K}$-lines. \n"
   ]
  },
  {
   "cell_type": "markdown",
   "id": "48698aba",
   "metadata": {},
   "source": [
    "<div style=\"background-color:#e6f3ff; padding:10px; border-style:solid;; border-color:#0084ff; border-width:1px\">\n",
    "These figures illustrate how these spectral lines can be used to probe different temperature regimes. A strong Ca K line is an indicator for lower temperatures than a strong H-alpha line. For temperatures in the steeper parts of curves, one expects fast changes in the spectral lines. \n",
    "</div>"
   ]
  },
  {
   "cell_type": "markdown",
   "id": "49afeb9c",
   "metadata": {},
   "source": [
    "<div style=\"background-color:#e6f3ff; padding:10px; border-style:\n",
    "solid;; border-color:#0084ff; border-width:1px\">\n",
    "\n",
    "   Good explanation. The only missinterpretation you have is that right flank of the hydrogen H$\\alpha$ population plot declines due to excitation. The main contribution is actually due to ionization as you show below. \n",
    "    \n",
    " Add a few sentences why the dip is formed in the temperature sensitivity plot, you more or less already explained it.\n",
    "    \n",
    "<div>"
   ]
  },
  {
   "cell_type": "markdown",
   "id": "5c95031b",
   "metadata": {},
   "source": [
    "<div style=\"background-color:#e6e6e6; padding:10px; border-style:\n",
    "solid;; border-color:#0d0d0d; border-width:1px\">\n",
    "    \n",
    "The explainations here are sound, but this paragraph seems a little rushed, and could benefit from proof-reading!    \n",
    "\n",
    "</div>"
   ]
  },
  {
   "cell_type": "markdown",
   "id": "56d1c7f9",
   "metadata": {},
   "source": [
    "<div style=\"background-color:#ffffe6; padding:10px; border-style:\n",
    "solid;; border-color:#e6e600; border-width:1px\">\n",
    "You have explained well how the population curves are related to the processes of the atoms. But not why the dips are related to the population peaks and why we get these asymptotes. Or why they are so temperature sensitive at these dip temperatures.\n",
    "    \n",
    "Nitpic: Relative population and population plots are a bit far apart so it makes it a bit difficult to compare directly. \n",
    "</div>"
   ]
  },
  {
   "cell_type": "code",
   "execution_count": null,
   "id": "d4f33860",
   "metadata": {},
   "outputs": [],
   "source": [
    "T_photo = np.linspace(int(6e3), int(12e3), int(1e4)) * units.K\n",
    "Pe_photo = 10 * units.Pa\n",
    "H_neutral, H_ion = H.compute_populations(T_photo, Pe_photo)\n",
    "\n",
    "tot_H_neutral = np.nansum(H_neutral, axis=0)\n",
    "tot_H_ion = np.nansum(H_ion, axis=0)\n",
    "H_equal_temp = T_photo[np.argmin(abs(tot_H_neutral - tot_H_ion))]\n",
    "\n",
    "plt.title(\"Fractions of neutral and ionised hydrogen\")\n",
    "plt.xlabel(\"Temperature [K]\")\n",
    "plt.ylabel(\"Fraction\")\n",
    "plt.plot(T_photo, tot_H_neutral, color='blue', label='Neutral')\n",
    "plt.plot(T_photo, tot_H_ion, color='red', label='Ionized')\n",
    "plt.vlines(H_equal_temp, ymin=-0.1, ymax=1.1, color='black', ls='--', label='H=H$^+$')\n",
    "plt.legend()\n",
    "plt.show()\n",
    "\n",
    "print(f\"Temperature of equal amounts neutral and ionized Hydrogen: {H_equal_temp:.0f}\")"
   ]
  },
  {
   "cell_type": "markdown",
   "id": "1e3ab56d",
   "metadata": {},
   "source": [
    "Above is a plot of the fraction of neutral and ionised hydrogen in the stellar photospheres with $P_e=10$ Pa. For lower temperatures most of the hydrogen is neutral, while for for higher temperatures the majority becomes ionised. Around $T\\approx 9200$ K there is an equal abundance of neutral and ionised hydrogen. This is of interest to us because if much of the hydrogen is ionised there will be a lot of free electrons, which results in a high electron pressure which again my impact ionization of other elements. "
   ]
  },
  {
   "cell_type": "markdown",
   "id": "4e0c390f",
   "metadata": {},
   "source": [
    "<div style=\"background-color:#e6f3ff; padding:10px; border-style:solid;; border-color:#0084ff; border-width:1px\">\n",
    "It is good to discuss why one would be interested to know for what temperature hydrogen is 50% ionised. One could consider that as a transition between cold and hot stars. Hydrogen is by far the most ambundant element. If hydrogen is more than 50% ionised, there will be many free electrons and the electron pressure will be high. That will have an impact on the ionisation of other elements. It will also affect the processes that produce continuum radiation (Thomson scattering on free electrons).    \n",
    "\n",
    "Figure layout is good.   \n",
    "\n",
    "Discussions are generally well written. There are a few typo's here and there which would be nice to catch.\n",
    "</div>"
   ]
  },
  {
   "cell_type": "markdown",
   "id": "9cf8c406",
   "metadata": {},
   "source": [
    "<div style=\"background-color:#e6e6e6; padding:10px; border-style:\n",
    "solid;; border-color:#0d0d0d; border-width:1px\">\n",
    "\n",
    "I thought this report was great! \n",
    "It was especially nice to see how each new calculation and plot tied into the insights from earlier in the project. It all felt very connected, and implies that the authors have a deep understanding of the material. \n",
    "    \n",
    "The plots are thoroughly explained, and lots of physical insight emerges in the discussion of the figures and results. the plots are also nicely formated, and all axes are labeled properly. \n",
    "    \n",
    "Everything is very neat and clean, and it is easy to navigate through the document.\n",
    "    \n",
    "As with almost any text, there are some grammatical errors and spelling mistakes here and there, and it might help to run the entire text through a spell-checker like Grammarly. (Though I expect it would be a really chaotic process, since we are writing in Jupyter Notebooks.)\n",
    "\n",
    "</div>"
   ]
  },
  {
   "cell_type": "markdown",
   "id": "1a3de131",
   "metadata": {},
   "source": [
    "<div style=\"background-color:#ffffe6; padding:10px; border-style:\n",
    "solid;; border-color:#e6e600; border-width:1px\">\n",
    "General comment for all exercises: Very good plots, easy to understand and well labled. Especially the strength ratio between Ca II K and H-alpha.\n",
    "</div>"
   ]
  }
 ],
 "metadata": {
  "kernelspec": {
   "display_name": "Python 3.10.6 64-bit",
   "language": "python",
   "name": "python3"
  },
  "language_info": {
   "codemirror_mode": {
    "name": "ipython",
    "version": 3
   },
   "file_extension": ".py",
   "mimetype": "text/x-python",
   "name": "python",
   "nbconvert_exporter": "python",
   "pygments_lexer": "ipython3",
   "version": "3.10.6"
  },
  "vscode": {
   "interpreter": {
    "hash": "31f2aee4e71d21fbe5cf8b01ff0e069b9275f58929596ceb00d14d90e3e16cd6"
   }
  }
 },
 "nbformat": 4,
 "nbformat_minor": 5
}
