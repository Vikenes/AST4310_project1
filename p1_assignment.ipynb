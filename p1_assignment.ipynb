{
 "cells": [
  {
   "cell_type": "markdown",
   "metadata": {},
   "source": [
    "## AST4310, Autumn 2022, Project 1:\n",
    "## Basic Spectral Line Formation (\"Cecilia Payne-Gaposchkin\")\n",
    "\n",
    "Authored by : ***XXX*** and ***YYY***.\n",
    "\n",
    "\n",
    "\n",
    "#### Header and imports"
   ]
  },
  {
   "cell_type": "code",
   "execution_count": 13,
   "metadata": {},
   "outputs": [],
   "source": [
    "import numpy as np\n",
    "import matplotlib.pyplot as plt\n",
    "from matplotlib import cm\n",
    "from astropy import units\n",
    "from astropy import constants\n",
    "from astropy import units\n",
    "\n",
    "from astropy.visualization import quantity_support\n",
    "quantity_support()\n",
    "\n",
    "h = constants.h.value \n",
    "k_B = constants.k_B.value \n",
    "c = constants.c.value \n",
    "e = constants.e.value \n",
    "\n",
    "plt.rc('legend', frameon=False)\n",
    "plt.rc('figure', figsize=(7, 7/1.3))\n",
    "plt.rc('font', size=12)"
   ]
  },
  {
   "cell_type": "markdown",
   "metadata": {},
   "source": [
    "### Exercise 1\n",
    "\n",
    "<div style=\"background-color:#e6ffe6; padding:10px; border-style:\n",
    "solid;; border-color:#00e600; border-width:1px\">\n",
    "<i> \n",
    "\n",
    "* Identify the four hydrogen lines in the image with stellar spectrograms (first figure in section 1). Looking at the hydrogen energy level diagram in section 1.2, to which series do they correspond? What are their lower and upper levels? Compute their central wavelengths precisely using equation (5). \n",
    "\n",
    "* Payne's basic assumption was that the strength of the absorption lines observed in stellar spectra scales linearly with the population density of the lower level of the corresponding transition. Why would she think so? (It is not correct, but generally stellar absorption lines do get stronger at larger lower-level population. In this exercise we follow her example and assume that the scaling is linear.) \n",
    "\n",
    "* Use this expectation to give initial rough estimates of the strength ratios of the $\\alpha$ lines in the the H I Lyman, Balmer, Paschen and Brackett series. Use T=5000 K. \n",
    "\n",
    "* Explain from equations (1) and (3) why the Saha and Boltzmann distributions behave differently for increasing temperature. \n",
    "\n",
    "* Speculate how ionisation can fully deplete a stage (e.g. all atoms can transition from neutral to ionised) while excitation puts only a few atoms in levels just below the ionisation level. Hint: what is the limit of the Saha and Boltzman ratios for infinite temperature? \n",
    "\n",
    "</i>\n",
    "</div>"
   ]
  },
  {
   "cell_type": "markdown",
   "metadata": {},
   "source": [
    "The wavelengths in the stellar spectrogram have the approximate range $\\lambda  \\in [3800, 5000]$ Å, which narrows them down to the Balmer series of neutral hydrogen. The Balmer $\\alpha$ line is outside of this range so we identify the four hydrogen lines as Ba $\\beta$ (H $\\beta$), Ba $\\gamma$ (H $\\gamma$), Ba $\\delta$ (H $\\delta$) and Ba $\\epsilon$ (H $\\epsilon$), from right to left in the spectrogram. This correspond two the Balmer series. The lower energy level for the Balmer series is $s=2$ and upper energy levels are:\n",
    "\n",
    "* Ba $\\beta$: $s=4$\n",
    "* Ba $\\gamma$: $s=5$\n",
    "* Ba $\\delta$: $s=6$\n",
    "* Ba $\\epsilon$: $s=7$\n",
    "\n",
    "We find the energies at each level with $\\chi_{1,s} = 13.598(1-1/s^2)$ eV, and the central wavelength by calculating:\n",
    "\\begin{align*}\n",
    "    \\lambda = \\frac{hc}{\\chi_{1,\\Delta s}}\n",
    "\\end{align*}\n",
    "for each line."
   ]
  },
  {
   "cell_type": "code",
   "execution_count": 14,
   "metadata": {},
   "outputs": [
    {
     "name": "stdout",
     "output_type": "stream",
     "text": [
      "Central wavelength for Ba beta: 4862.84 Å\n",
      "Central wavelength for Ba gamma: 4341.82 Å\n",
      "Central wavelength for Ba delta: 4103.02 Å\n",
      "Central wavelength for Ba epsilon: 3971.32 Å\n"
     ]
    }
   ],
   "source": [
    "chi_hydrogen = lambda s: 13.598 * (1 - 1/s**2) * e \n",
    "g_hydrogen = lambda s: 2 * s**2 \n",
    "\n",
    "def central_wl(s_high, s_low):\n",
    "    chi_high = chi_hydrogen(s_high)\n",
    "    chi_low = chi_hydrogen(s_low)\n",
    "    lmbda = h * c / (chi_high - chi_low)\n",
    "    return lmbda * 1e10 #return wavelength in units of Å\n",
    "\n",
    "#   nice print\n",
    "for s_high, name in zip([4,5,6,7], ['Ba beta', 'Ba gamma', 'Ba delta', 'Ba epsilon']):\n",
    "    cent_wav = central_wl(s_high, s_low=2)\n",
    "    print(f\"Central wavelength for {name}: {cent_wav:.2f} Å\")"
   ]
  },
  {
   "cell_type": "markdown",
   "metadata": {},
   "source": [
    "Discuss Payne's assumption"
   ]
  },
  {
   "cell_type": "markdown",
   "metadata": {},
   "source": [
    "Assume a linear relationship between the strength of the absorption lines and the population densities, we have \n",
    "\n",
    "$$ \\text{strength} \\propto n_{r,s} = N_r \\frac{g_{r,s}}{U_r} e^{-\\chi_{r,s} / kT} $$\n",
    "\n",
    "For the $\\alpha$ lines in H I we have $r=1$. The strength ratio between two lines with levels $s$ and $t$ is thus given by $\\frac{n_{r,s}}{n_{r,t}}$ where there factors $N_r$ and $U_r$ cancels out, resulting in\n",
    "\n",
    "$$ \\frac{n_{r,s}}{n_{r,t}} = \\frac{g_{r,s}}{g_{r,t}} e^{-(\\chi_{r,s} - \\chi_{r,t})/kT} $$\n",
    "\n",
    "The strength ratio between the $\\alpha$ lines for H I is thus $n_{r,1}/n_{r,2}$ between Lyman $\\alpha$ and Balmer $\\alpha$. "
   ]
  },
  {
   "cell_type": "code",
   "execution_count": 15,
   "metadata": {},
   "outputs": [
    {
     "name": "stdout",
     "output_type": "stream",
     "text": [
      "Ba/Ly: 2.1009921352821335e-10\n",
      "Pa/Ba: 0.028089648354512758\n",
      "Br/Pa: 0.38335823576492617\n"
     ]
    }
   ],
   "source": [
    "#   strength ratios\n",
    "def strength_ratio(s, t, temp=5000):\n",
    "    ns_nt = g_hydrogen(s) / g_hydrogen(t) \\\n",
    "                * np.exp(- (chi_hydrogen(s) - chi_hydrogen(t)) / (k_B * temp))\n",
    "    return ns_nt\n",
    "\n",
    "Ly_Ba = strength_ratio(s=2, t=1)\n",
    "Ba_Pa = strength_ratio(s=3, t=2)\n",
    "Pa_Br = strength_ratio(s=4, t=3)\n",
    "\n",
    "#   nice print\n",
    "for s, name in zip(range(1,4), [\"Ba/Ly\", \"Pa/Ba\", \"Br/Pa\"]):\n",
    "    print(f\"{name}: {strength_ratio(s+1,s)}\")"
   ]
  },
  {
   "cell_type": "markdown",
   "metadata": {},
   "source": [
    "If we look at the temperature dependencies for both the Boltzmann and Saha equation we obtain the following proportionalities, and their limits: \n",
    "\n",
    "$$ \\text{Boltzmann: } \\quad \\frac{n_{r,s}}{N_r} \\propto e^{-1/T} \\implies \\lim_{T\\to\\infty} \\frac{n_{r,s}}{N_r} = \\text{const} $$\n",
    "\n",
    "$$ \\text{Saha: } \\quad \\frac{N_{r+1}}{N_r} \\propto T^{3/2}e^{-1/T} \\implies \\lim_{T\\to\\infty} \\frac{N_{r+1}}{N_r} = \\infty$$\n",
    "\n",
    "We deduce from this that if we increase the temperature sufficiently, the Boltzmann equation tells us that the number of particles in each level converges towards a constant number. The Saha equation on the other hand, tells us that the ratio between ionisations diverges towards infinity, meaning that at higher temperatures most atoms will be highly ionised. The fraction of lower ionised particles is nearly zero. "
   ]
  },
  {
   "cell_type": "markdown",
   "metadata": {},
   "source": [
    "MORE ON HOW IONISATION CAN FULLY DEPLETE A STAGE"
   ]
  },
  {
   "cell_type": "markdown",
   "metadata": {},
   "source": [
    "### Exercise 2\n",
    "\n",
    "<div style=\"background-color:#e6ffe6; padding:10px; border-style:\n",
    "solid;; border-color:#00e600; border-width:1px\">  \n",
    "<i>\n",
    "\n",
    "* Using the simplified Ca atom (`Ca_atom.txt`), plot and discuss the temperature variation of the partition functions $U_r$ for the first four ionisation stages in the file. Look in the temperature range between 100 - 30,000 K. What can you say about the temperature dependence of $U_r$? \n",
    "    \n",
    "* Plot a \"Payne curve\" for the simplified Ca atom using a temperature range of 100 - 175,000 K. Start with $P_e$= 100 Pa and study how $P_e$ affects the diagram. What is going on? \n",
    "    \n",
    "* Make a separate figure with a Payne curve for an element of your choice. You can choose one of the existing model atoms, or you can use the [NIST atomic spectra database](https://physics.nist.gov/PhysRefData/ASD/levels_form.html) to build a model for any atom you'd like. How does it compare with Ca? \n",
    "\n",
    "</i>\n",
    "</div>"
   ]
  },
  {
   "cell_type": "code",
   "execution_count": 16,
   "metadata": {},
   "outputs": [
    {
     "data": {
      "image/png": "[encoded data removed]",
      "text/plain": [
       "<Figure size 504x387.692 with 1 Axes>"
      ]
     },
     "metadata": {
      "needs_background": "light"
     },
     "output_type": "display_data"
    },
    {
     "data": {
      "image/png": "[encoded data removed]",
      "text/plain": [
       "<Figure size 504x387.692 with 1 Axes>"
      ]
     },
     "metadata": {
      "needs_background": "light"
     },
     "output_type": "display_data"
    }
   ],
   "source": [
    "class Atom:\n",
    "    \"\"\"\n",
    "    Reads atomic data, calculates level populations according to Boltzmann's law,\n",
    "    and ionisation fractions according to Saha's law.\n",
    "    \"\"\"\n",
    "    \n",
    "    def __init__(self, atomfile=None):\n",
    "        \"\"\"\n",
    "        Parameters\n",
    "        ----------\n",
    "        atomfile : string, optional\n",
    "            Name of file with atomic data. If not present, atomic data needs\n",
    "            to be loaded with the .read_atom method.\n",
    "        \"\"\"\n",
    "        self.loaded = False\n",
    "        if atomfile:\n",
    "            self.read_atom(atomfile)\n",
    "        \n",
    "    def read_atom(self, filename):\n",
    "        \"\"\"\n",
    "        Reads atom structure from text file.\n",
    "        \n",
    "        Parameters\n",
    "        ----------\n",
    "        filename: string\n",
    "            Name of file with atomic data.\n",
    "        \"\"\"\n",
    "        tmp = np.loadtxt(filename, unpack=True)\n",
    "        self.n_stages = int(tmp[2].max()) + 1\n",
    "        # Get maximum number of levels in any stage\n",
    "        self.max_levels = 0\n",
    "        for i in range(self.n_stages):\n",
    "            self.max_levels = max(self.max_levels, (tmp[2] == i).sum())\n",
    "        # Populate level energies and statistical weights\n",
    "        # Use a square array filled with NaNs for non-existing levels\n",
    "        chi = np.empty((self.n_stages, self.max_levels))\n",
    "        chi.fill(np.nan)\n",
    "        self.g = np.copy(chi)\n",
    "        for i in range(self.n_stages):\n",
    "            nlevels = (tmp[2] == i).sum()\n",
    "            chi[i, :nlevels] = tmp[0][tmp[2] == i]\n",
    "            self.g[i, :nlevels] = tmp[1][tmp[2] == i]\n",
    "        # Put units, convert from cm-1 to Joule\n",
    "        chi = (chi / units.cm).to('aJ', equivalencies=units.spectral())\n",
    "        # Save ionisation energies, saved as energy of first level in each stage\n",
    "        self.chi_ion = chi[:, 0].copy()\n",
    "        # Save level energies relative to ground level in each stage\n",
    "        self.chi = chi - self.chi_ion[:, np.newaxis]\n",
    "        self.loaded = True\n",
    "        \n",
    "    def compute_partition_function(self, temperature):\n",
    "        \"\"\"\n",
    "        Computes partition functions using the atomic level energies and\n",
    "        statistical weights.\n",
    "        \n",
    "        Parameters\n",
    "        ----------\n",
    "        temperature: astropy.units.quantity (scalar or array)\n",
    "            Gas temperature in units of K or equivalent.\n",
    "        \"\"\"\n",
    "        if not self.loaded:\n",
    "            raise ValueError(\"Missing atom structure, please load atom with read_atom()\")\n",
    "        temp = temperature[np.newaxis, np.newaxis]  # to allow broadcast\n",
    "        return np.nansum(self.g[..., np.newaxis] * \n",
    "                            np.exp(-self.chi[..., np.newaxis] / \n",
    "                                      constants.k_B / temp), axis=1)\n",
    "    \n",
    "    def compute_excitation(self, temperature):\n",
    "        \"\"\"\n",
    "        Computes the level populations relative to the ground state,\n",
    "        according to the Boltzmann law.\n",
    "        \n",
    "        Parameters\n",
    "        ----------\n",
    "        temperature: astropy.units.quantity (scalar or array)\n",
    "            Gas temperature in units of K or equivalent.\n",
    "        \"\"\"\n",
    "        pfunc = self.compute_partition_function(temperature)\n",
    "        # Reshape arrays to allow broadcast\n",
    "        temp = temperature[np.newaxis, np.newaxis]\n",
    "        g_ratio = self.g[..., np.newaxis] / pfunc[:, np.newaxis]  # relative to total number of atoms in this stage\n",
    "        chi = self.chi[..., np.newaxis]\n",
    "        return g_ratio * np.exp(-chi / (constants.k_B * temp))\n",
    "       \n",
    "    def compute_ionisation(self, temperature, electron_pressure):\n",
    "        \"\"\"\n",
    "        Computes ionisation fractions according to the Saha law.\n",
    "        \n",
    "        Parameters\n",
    "        ----------\n",
    "        temperature: astropy.units.quantity (scalar or array)\n",
    "            Gas temperature in units of K or equivalent.\n",
    "        electron_pressure: astropy.units.quantity (scalar)\n",
    "            Electron pressure in units of Pa or equivalent.\n",
    "        \"\"\"\n",
    "        partition_function = self.compute_partition_function(temperature)\n",
    "        electron_density = electron_pressure / (constants.k_B * temperature)\n",
    "        saha_const = ((2 * np.pi * constants.m_e * constants.k_B * temperature) / \n",
    "                      (constants.h ** 2)) ** (3 / 2)\n",
    "        nstage = np.zeros_like(partition_function) / units.m ** 3\n",
    "        nstage[0] = 1. / units.m ** 3\n",
    "        # Below we use the values for ionisation energies that are saved\n",
    "        # in the first index of each excited state: self.chi[r + 1, 0]\n",
    "        for r in range(self.n_stages - 1):\n",
    "            nstage[r + 1] = (nstage[r] / electron_density * 2 * saha_const *\n",
    "                             partition_function[r + 1] / partition_function[r] * \n",
    "                             np.exp(-self.chi_ion[r + 1, np.newaxis] / \n",
    "                                       (constants.k_B * temperature[np.newaxis])))\n",
    "        # nansum is needed because the last stage might have only one level\n",
    "        # (only ionisation potential)\n",
    "        return nstage / np.nansum(nstage, axis=0)\n",
    "\n",
    "    def compute_populations(self, temperature, electron_pressure):\n",
    "        \"\"\"\n",
    "        Computes relative level populations for all levels and all\n",
    "        ionisation stages using the Bolzmann and Saha laws.\n",
    "        \n",
    "        Parameters\n",
    "        ----------\n",
    "        temperature: astropy.units.quantity (scalar or array)\n",
    "            Gas temperature in units of K or equivalent.\n",
    "        electron_pressure: astropy.units.quantity (scalar)\n",
    "            Electron pressure in units of Pa or equivalent.\n",
    "        \"\"\"\n",
    "        return (self.compute_excitation(temperature) * \n",
    "                self.compute_ionisation(temperature, electron_pressure)[:, np.newaxis])\n",
    "\n",
    "\n",
    "\n",
    "\n",
    "def plot_partition_function():\n",
    "    T = np.linspace(100 * units.K, int(30e3) * units.K, int(1e5))\n",
    "    U_r = Ca.compute_partition_function(temperature=T)\n",
    "    for r in range(6):\n",
    "        plt.plot(T, U_r[r], label=f'r={r:.0f}')\n",
    "    plt.legend()\n",
    "    plt.show()\n",
    "\n",
    "def plot_population():\n",
    "    T = np.linspace(100 * units.K, int(175e3) * units.K, int(1e5))\n",
    "    P_e = 13 * units.Pa\n",
    "    ci = Ca.compute_populations(temperature=T, electron_pressure=P_e)\n",
    "    for i in range(6):\n",
    "        plt.plot(T, np.nansum(ci[i], axis=0), label=f'r={i}')\n",
    "    plt.legend()\n",
    "    # plt.yscale('log')\n",
    "    # plt.ylim(1e-8, 1.1)\n",
    "    plt.show()\n",
    "\n",
    "\n",
    "\n",
    "Ca = Atom(\"data/Ca_atom.txt\")\n",
    "plot_partition_function()\n",
    "plot_population()"
   ]
  },
  {
   "cell_type": "markdown",
   "metadata": {},
   "source": [
    "### Exercise 3\n",
    "\n",
    "<div style=\"background-color:#e6ffe6; padding:10px; border-style:\n",
    "solid;; border-color:#00e600; border-width:1px\">  \n",
    "<i>\n",
    "\n",
    "* Explain qualitatively why the solar $\\text{Ca}^+$ K line is much stronger than the solar H $\\alpha$ line, even though hydrogen is not ionised in the solar photosphere and low chromosphere ($T \\approx$ 4000 - 6000 K) where these lines are formed, and calcium is far less abundant than hydrogen in the Sun: the Ca/H abundance ratio is only $N_\\mathrm{Ca}/N_\\mathrm{H} = 2 \\times 10^{−6}$. Assume again that the observed line strength scales with the lower-level population density (which it does, although nonlinearly through a \\\"curve of growth\\\" as you will see in Project 2).\n",
    "    \n",
    "* Prove your explanation by computing and plotting the expected strength ratio of these two lines as function of temperature for $P_e = 10^2$ dyne cm $^{-2}$. Make use of `H_atom.txt` and `Ca_atom.txt`. \n",
    "    \n",
    "* The relative population change $(\\Delta n / \\Delta T) / n$ is useful to to diagnose the temperature sensitivity of the populations of a given atomic stage. Plot in a log scale the relative population changes for the lower levels of $\\text{Ca}^+$ K and H $\\alpha$ vs. temperature, using  $\\Delta T=$ 1 K. Around $T=$ 5600 K the $\\text{Ca}^+$ K curve dips down to very  small values; the H $\\alpha$ curve does that around $T=$ 9500  K. Thus, at $T \\approx$ 5600 K the temperature sensitivity of $\\text{Ca}^+$ K is much smaller than the temperature sensitivity of H $\\alpha$. Compare these plots with plots of the populations of the lower levels for the two lines (normalise them to the maximum value of each for easier comparison). You should find that the population plots have a peak and two flanks. Explain each flank of the population plots and the dips in the temperature sensitivity plots.\n",
    "\n",
    "* Find at which temperature the hydrogen in stellar photospheres with $P_e =$ 10 Pa is about 50% ionised. Plot the neutral and ionised fractions of hydrogen as a function of temperature.\n",
    "\n",
    "</i>\n",
    "</div>"
   ]
  },
  {
   "cell_type": "markdown",
   "metadata": {},
   "source": [
    "We still have that strength scales linearly with the population density:\n",
    "\n",
    "$$ \\frac{n_{r,s}}{n_{r,t}} = \\frac{g_{r,s}}{g_{r,t}} e^{-(\\chi_{r,s} - \\chi_{r,t})/kT} $$"
   ]
  },
  {
   "cell_type": "code",
   "execution_count": null,
   "metadata": {},
   "outputs": [],
   "source": [
    "#   strength ratio comparison\n",
    "H = Atom(\"data/H_atom.txt\")\n"
   ]
  }
 ],
 "metadata": {
  "kernelspec": {
   "display_name": "Python 3.10.4 64-bit",
   "language": "python",
   "name": "python3"
  },
  "language_info": {
   "codemirror_mode": {
    "name": "ipython",
    "version": 3
   },
   "file_extension": ".py",
   "mimetype": "text/x-python",
   "name": "python",
   "nbconvert_exporter": "python",
   "pygments_lexer": "ipython3",
   "version": "3.10.4"
  },
  "vscode": {
   "interpreter": {
    "hash": "31f2aee4e71d21fbe5cf8b01ff0e069b9275f58929596ceb00d14d90e3e16cd6"
   }
  }
 },
 "nbformat": 4,
 "nbformat_minor": 4
}
