{
 "cells": [
  {
   "cell_type": "markdown",
   "metadata": {},
   "source": [
    "## AST4310, Autumn 2022, Project 1:\n",
    "## Basic Spectral Line Formation (\"Cecilia Payne-Gaposchkin\")\n",
    "\n",
    "Authored by : ***1*** and ***3***.\n",
    "\n",
    "\n",
    "\n",
    "#### Header and imports"
   ]
  },
  {
   "cell_type": "code",
   "execution_count": null,
   "metadata": {},
   "outputs": [],
   "source": [
    "import numpy as np\n",
    "import matplotlib.pyplot as plt\n",
    "from matplotlib import cm\n",
    "from astropy import units\n",
    "from astropy import constants\n",
    "from astropy import units\n",
    "\n",
    "from astropy.visualization import quantity_support\n",
    "quantity_support()\n",
    "\n",
    "h = constants.h.value \n",
    "k_B = constants.k_B.value \n",
    "c = constants.c.value \n",
    "e = constants.e.value \n",
    "\n",
    "plt.rc('legend', frameon=False)\n",
    "# plt.rc('figure', figsize=(7, 7/1.3))\n",
    "plt.rc('figure', figsize=(10, 10/1.3))\n",
    "plt.rc('font', size=13)"
   ]
  },
  {
   "cell_type": "markdown",
   "metadata": {},
   "source": [
    "### Exercise 1\n",
    "\n",
    "<div style=\"background-color:#e6ffe6; padding:10px; border-style:\n",
    "solid;; border-color:#00e600; border-width:1px\">\n",
    "<i> \n",
    "\n",
    "* Identify the four hydrogen lines in the image with stellar spectrograms (first figure in section 1). Looking at the hydrogen energy level diagram in section 1.2, to which series do they correspond? What are their lower and upper levels? Compute their central wavelengths precisely using equation (5). \n",
    "\n",
    "* Payne's basic assumption was that the strength of the absorption lines observed in stellar spectra scales linearly with the population density of the lower level of the corresponding transition. Why would she think so? (It is not correct, but generally stellar absorption lines do get stronger at larger lower-level population. In this exercise we follow her example and assume that the scaling is linear.) \n",
    "\n",
    "* Use this expectation to give initial rough estimates of the strength ratios of the $\\alpha$ lines in the the H I Lyman, Balmer, Paschen and Brackett series. Use T=5000 K. \n",
    "\n",
    "* Explain from equations (1) and (3) why the Saha and Boltzmann distributions behave differently for increasing temperature. \n",
    "\n",
    "* Speculate how ionisation can fully deplete a stage (e.g. all atoms can transition from neutral to ionised) while excitation puts only a few atoms in levels just below the ionisation level. Hint: what is the limit of the Saha and Boltzman ratios for infinite temperature? \n",
    "\n",
    "</i>\n",
    "</div>"
   ]
  },
  {
   "cell_type": "markdown",
   "metadata": {},
   "source": [
    "The wavelengths in the stellar spectrogram have the approximate range $\\lambda  \\in [3800, 5000]$ Å, which narrows them down to the Balmer series of neutral hydrogen. The Balmer $\\alpha$ line is outside of this range so we identify the four hydrogen lines as Ba $\\beta$ (H $\\beta$), Ba $\\gamma$ (H $\\gamma$), Ba $\\delta$ (H $\\delta$) and Ba $\\epsilon$ (H $\\epsilon$), from right to left in the spectrogram. This correspond two the Balmer series. The lower energy level for the Balmer series is $s=2$ and upper energy levels, are:\n",
    "\n",
    "* Ba $\\beta$: $s=4$\n",
    "* Ba $\\gamma$: $s=5$\n",
    "* Ba $\\delta$: $s=6$\n",
    "* Ba $\\epsilon$: $s=7$\n",
    "\n",
    "We find the energies at each level with $\\chi_{1,s} = 13.598(1-1/s^2)$ eV, and the central wavelength by calculating:\n",
    "\\begin{align*}\n",
    "    \\lambda = \\frac{hc}{\\chi_{1,\\Delta s}}\n",
    "\\end{align*}"
   ]
  },
  {
   "cell_type": "code",
   "execution_count": null,
   "metadata": {},
   "outputs": [],
   "source": [
    "chi_hydrogen = lambda s: 13.598 * (1 - 1/s**2) * e \n",
    "g_hydrogen = lambda s: 2 * s**2 \n",
    "\n",
    "def central_wl(s_high, s_low):\n",
    "    chi_high = chi_hydrogen(s_high)\n",
    "    chi_low = chi_hydrogen(s_low)\n",
    "    lmbda = h * c / (chi_high - chi_low)\n",
    "    return lmbda * 1e10 #return wavelength in units of Å\n",
    "\n",
    "#   nice print\n",
    "for s_high, name in zip([4,5,6,7], ['Ba β', 'Ba γ', 'Ba δ', 'Ba ε']):\n",
    "    cent_wav = central_wl(s_high, s_low=2)\n",
    "    print(f\"Central wavelength for {name}: {cent_wav:.2f} Å\")"
   ]
  },
  {
   "cell_type": "markdown",
   "metadata": {},
   "source": [
    "## Payne's assumption of strength ratios \n",
    "Payne's assumption was that the strength of absorption lines is proportional to the number density of the lower level population. This is reasonable since the more atoms we have at a given level, there will be more absorption of photons at specific wavelengths, contributing to the strength of the spectral lines. For a fixed number of an element, one may then expect the relative difference in strength of different absorption lines to be directly related to the relative difference in population density of the absorbers."
   ]
  },
  {
   "cell_type": "markdown",
   "metadata": {},
   "source": [
    "The Boltzmann distribution is given as \n",
    "\n",
    "\\begin{equation}\n",
    "    \\frac{n_{r,s}}{N_r} = \\frac{g_{r,s}}{U_r} e^{-\\chi_{r,s} / kT} \n",
    "\\end{equation}\n",
    "\n",
    "where $U_r$ is the partition function\n",
    "\n",
    "\\begin{equation}\n",
    "    U_r = \\sum_s g_{r,s} e^{-\\chi_{r,s}/kT}\n",
    "\\end{equation}\n",
    "\n",
    "Assuming a linear relationship between the strength of the absorption lines and the population densities, we have \n",
    "\n",
    "$$ \\text{strength} \\propto n_{r,s} = N_r \\frac{g_{r,s}}{U_r} e^{-\\chi_{r,s} / kT} $$\n",
    "\n",
    "For the $\\alpha$ lines in H I we have $r=1$. The strength ratio between two lines with levels $s$ and $t$ is thus given by $\\frac{n_{r,s}}{n_{r,t}}$ where the factors $N_r$ and $U_r$ cancels out, resulting in\n",
    "\n",
    "$$ \\frac{n_{r,s}}{n_{r,t}} = \\frac{g_{r,s}}{g_{r,t}} e^{-(\\chi_{r,s} - \\chi_{r,t})/kT} $$\n",
    "\n",
    "Rough estimates of the strength ratios between the different $\\alpha$ lines for H I is now done by computing the above ratio using the relevant combinations of $s,t\\in\\{1,2,3,4\\}$ for different series. We use a temperature of $T=5000\\,\\mathrm{K}$ for all ratios. "
   ]
  },
  {
   "cell_type": "code",
   "execution_count": null,
   "metadata": {},
   "outputs": [],
   "source": [
    "def strength_ratio(s, t, temp=5000):\n",
    "    g_ratio = g_hydrogen(s) / g_hydrogen(t)\n",
    "    return g_ratio * np.exp(- (chi_hydrogen(s) - chi_hydrogen(t)) / (k_B * temp))\n",
    "\n",
    "print(f\"Ly/Ba: {strength_ratio(1,2):.2e}\")\n",
    "print(f\"Ly/Pa: {strength_ratio(1,3):.2e}\")\n",
    "print(f\"Ly/Br: {strength_ratio(1,4):.2e}\")\n",
    "print(f\"Ba/Pa: {strength_ratio(2,3):.2e}\")\n",
    "print(f\"Ba/Br: {strength_ratio(2,4):.2e}\")\n",
    "print(f\"Pa/Br: {strength_ratio(3,4):.2e}\")\n",
    "\n",
    "\n",
    "# #   nice print\n",
    "# for s, name in zip(range(1,4), [\"Ly/Ba\", \"Ba/Pa\", \"Pa/Br\"]):\n",
    "#     print(f\"{name}: {strength_ratio(s,s+1):.2e}\")"
   ]
  },
  {
   "cell_type": "markdown",
   "metadata": {},
   "source": [
    "### High temperature dependence of Boltzmann and Saha distribution\n",
    "Before we consider the limiting temperature behaviour of the two distributions we will look at the partition function, given as \n",
    "\n",
    "$$ U_r = \\sum_s g_{r,s} e^{-\\chi_{r,s}/kT} $$\n",
    "\n",
    "The sum over $s$ goes to infinity, so for hydrogen with $g_{1,s}=2s^2$, the partition function will become infinitely large. However, we can set an upper limit on $s$ in the sum. We do this by requiring that the distance from the nucleus to the electron should not exceed the average distance between the atoms in the gas. Using the Bohr model, we can approximate the distance between the nucleaus and the electron at a given energy level as $r_s = s^2 a_0 /Z$, where $s$ is the energy level, $Z$ is the proton number and $a_0$ is the Bohr radius. For a gas with particle density $N$, assuming that the gas volume goes as $r^3$, we get $r\\propto N^{-1/3}$ as an average distance of atom separation. Comparing the two radii, we can solve for $s$ which gives an approximate value of $s_{\\mathrm{max}}$. \n",
    "\n",
    "$$ s_{\\mathrm{max}} \\sim \\sqrt{\\frac{Z}{a_0}} N^{-1/3} $$\n",
    "\n",
    "Summing over $s\\leq s_\\mathrm{max}$ will now ensure a converging value of $U_r$.  "
   ]
  },
  {
   "cell_type": "markdown",
   "metadata": {},
   "source": [
    "Having well behaved functions we will now proceed to consider high temperature behaviour of the Saha and Boltzmann distributions. Considering the limit $T \\to \\infty$ the Boltzmann law yields \n",
    "\n",
    "\n",
    "$$ \\lim_{T\\to\\infty} \\frac{n_{r,s}}{N_r} = \\lim_{T\\to\\infty} \\frac{g_{r,s}}{U_r} e^{-\\chi_{r,s} / kT} = \\frac{g_{r,s}}{\\sum_{s}g_{r,s}} $$\n",
    "where the Boltzmann factor in both the above expression and in the partition function approaches $1$ at infinite temperature. The partition function then becomes a sum over $g_{r,s}$. At a given ionization state, $r$, the population density in a level $s$ is now solely dependent on the statistical weight of said level. \n",
    "\n",
    "For the Saha law the high temperature limit becomes  \n",
    "\n",
    "$$ \\lim_{T\\to\\infty} \\frac{N_{r+1}}{N_r} = \\lim_{T\\to\\infty} \\frac{1}{N_e} \\frac{2 \\sum_{s} g_{r+1,s}}{\\sum_{s} g_{r,s}} \\left( \\frac{2\\pi m_e k T}{h^2} \\right)^{3/2} \\propto \\lim_{T\\to\\infty} T^{5/2} = \\infty $$ \n",
    "\n",
    "where an extra factor of $T$ comes from the electron density, $1/N_e \\propto T$. We see that the Saha law ratio diverges at infinite temperature. This can interpreted as a full depletion of stage $r$, where all atoms now being in stage $r+1$ as they've become ionized. For the Boltzmann law, the high temperature limit of $n_{r,s}/N_r$ is only dependent on the statistical weight $g_{r,s}$. Thus, the number of atoms in levels below the ionisation level is governed by the statistical weight of the individual levels. Depending on the atom, this could result in only a small fraction of all atoms being in the highest excited neutral level.\n",
    "\n",
    "// Remove discussion below? It seems obsolete now that I've rewritten the above discussion\n",
    "We deduce from the above that excitation, which is governed by the Boltzmann law that converges for $s<s_{max}$, puts only a few atoms in levels just below the ionisation level. This could be because the distribution across energy levels $s$ is governed by the values of the the statistical weight for these high temperatures. The Saha distribution on the other hand diverges at high temperatures, which means that the population ratio between increasing ionisation stages diverges to infinity in such a way that we effectively have no atoms in the lower ionisation stages compared to the higher ionisation stages. \n",
    "\n"
   ]
  },
  {
   "cell_type": "markdown",
   "metadata": {},
   "source": [
    "### Exercise 2\n",
    "\n",
    "<div style=\"background-color:#e6ffe6; padding:10px; border-style:\n",
    "solid;; border-color:#00e600; border-width:1px\">  \n",
    "<i>\n",
    "\n",
    "* Using the simplified Ca atom (`Ca_atom.txt`), plot and discuss the temperature variation of the partition functions $U_r$ for the first four ionisation stages in the file. Look in the temperature range between 100 - 30,000 K. What can you say about the temperature dependence of $U_r$? \n",
    "    \n",
    "* Plot a \"Payne curve\" for the simplified Ca atom using a temperature range of 100 - 175,000 K. Start with $P_e$= 100 Pa and study how $P_e$ affects the diagram. What is going on? \n",
    "    \n",
    "* Make a separate figure with a Payne curve for an element of your choice. You can choose one of the existing model atoms, or you can use the [NIST atomic spectra database](https://physics.nist.gov/PhysRefData/ASD/levels_form.html) to build a model for any atom you'd like. How does it compare with Ca? \n",
    "\n",
    "</i>\n",
    "</div>"
   ]
  },
  {
   "cell_type": "code",
   "execution_count": null,
   "metadata": {},
   "outputs": [],
   "source": [
    "class Atom:\n",
    "    \"\"\"\n",
    "    Reads atomic data, calculates level populations according to Boltzmann's law,\n",
    "    and ionisation fractions according to Saha's law.\n",
    "    \"\"\"\n",
    "    \n",
    "    def __init__(self, atomfile=None):\n",
    "        \"\"\"\n",
    "        Parameters\n",
    "        ----------\n",
    "        atomfile : string, optional\n",
    "            Name of file with atomic data. If not present, atomic data needs\n",
    "            to be loaded with the .read_atom method.\n",
    "        \"\"\"\n",
    "        self.loaded = False\n",
    "        if atomfile:\n",
    "            self.read_atom(atomfile)\n",
    "        \n",
    "    def read_atom(self, filename):\n",
    "        \"\"\"\n",
    "        Reads atom structure from text file.\n",
    "        \n",
    "        Parameters\n",
    "        ----------\n",
    "        filename: string\n",
    "            Name of file with atomic data.\n",
    "        \"\"\"\n",
    "        self.filename = filename[5:]\n",
    "        tmp = np.loadtxt(filename, unpack=True)\n",
    "        self.n_stages = int(tmp[2].max()) + 1\n",
    "        # Get maximum number of levels in any stage\n",
    "        self.max_levels = 0\n",
    "        for i in range(self.n_stages):\n",
    "            self.max_levels = max(self.max_levels, (tmp[2] == i).sum())\n",
    "        # Populate level energies and statistical weights\n",
    "        # Use a square array filled with NaNs for non-existing levels\n",
    "        chi = np.empty((self.n_stages, self.max_levels))\n",
    "        chi.fill(np.nan)\n",
    "        self.g = np.copy(chi)\n",
    "        for i in range(self.n_stages):\n",
    "            nlevels = (tmp[2] == i).sum()\n",
    "            chi[i, :nlevels] = tmp[0][tmp[2] == i]\n",
    "            self.g[i, :nlevels] = tmp[1][tmp[2] == i]\n",
    "        # Put units, convert from cm-1 to Joule\n",
    "        chi = (chi / units.cm).to('aJ', equivalencies=units.spectral())\n",
    "        # Save ionisation energies, saved as energy of first level in each stage\n",
    "        self.chi_ion = chi[:, 0].copy()\n",
    "        # Save level energies relative to ground level in each stage\n",
    "        self.chi = chi - self.chi_ion[:, np.newaxis]\n",
    "        self.loaded = True\n",
    "        \n",
    "    def compute_partition_function(self, temperature):\n",
    "        \"\"\"\n",
    "        Computes partition functions using the atomic level energies and\n",
    "        statistical weights.\n",
    "        \n",
    "        Parameters\n",
    "        ----------\n",
    "        temperature: astropy.units.quantity (scalar or array)\n",
    "            Gas temperature in units of K or equivalent.\n",
    "        \"\"\"\n",
    "        if not self.loaded:\n",
    "            raise ValueError(\"Missing atom structure, please load atom with read_atom()\")\n",
    "        temp = temperature[np.newaxis, np.newaxis]  # to allow broadcast\n",
    "        return np.nansum(self.g[..., np.newaxis] * \n",
    "                            np.exp(-self.chi[..., np.newaxis] / \n",
    "                                      constants.k_B / temp), axis=1)\n",
    "    \n",
    "    def compute_excitation(self, temperature):\n",
    "        \"\"\"\n",
    "        Computes the level populations relative to the ground state,\n",
    "        according to the Boltzmann law.\n",
    "        \n",
    "        Parameters\n",
    "        ----------\n",
    "        temperature: astropy.units.quantity (scalar or array)\n",
    "            Gas temperature in units of K or equivalent.\n",
    "        \"\"\"\n",
    "        pfunc = self.compute_partition_function(temperature)\n",
    "        # Reshape arrays to allow broadcast\n",
    "        temp = temperature[np.newaxis, np.newaxis]\n",
    "        g_ratio = self.g[..., np.newaxis] / pfunc[:, np.newaxis]  # relative to total number of atoms in this stage\n",
    "        chi = self.chi[..., np.newaxis]\n",
    "        return g_ratio * np.exp(-chi / (constants.k_B * temp))\n",
    "       \n",
    "    def compute_ionisation(self, temperature, electron_pressure):\n",
    "        \"\"\"\n",
    "        Computes ionisation fractions according to the Saha law.\n",
    "        \n",
    "        Parameters\n",
    "        ----------\n",
    "        temperature: astropy.units.quantity (scalar or array)\n",
    "            Gas temperature in units of K or equivalent.\n",
    "        electron_pressure: astropy.units.quantity (scalar)\n",
    "            Electron pressure in units of Pa or equivalent.\n",
    "        \"\"\"\n",
    "        partition_function = self.compute_partition_function(temperature)\n",
    "        electron_density = electron_pressure / (constants.k_B * temperature)\n",
    "        saha_const = ((2 * np.pi * constants.m_e * constants.k_B * temperature) / \n",
    "                      (constants.h ** 2)) ** (3 / 2)\n",
    "        nstage = np.zeros_like(partition_function) / units.m ** 3\n",
    "        nstage[0] = 1. / units.m ** 3\n",
    "        # Below we use the values for ionisation energies that are saved\n",
    "        # in the first index of each excited state: self.chi[r + 1, 0]\n",
    "        for r in range(self.n_stages - 1):\n",
    "            nstage[r + 1] = (nstage[r] / electron_density * 2 * saha_const *\n",
    "                             partition_function[r + 1] / partition_function[r] * \n",
    "                             np.exp(-self.chi_ion[r + 1, np.newaxis] / \n",
    "                                       (constants.k_B * temperature[np.newaxis])))\n",
    "        # nansum is needed because the last stage might have only one level\n",
    "        # (only ionisation potential)\n",
    "        return nstage / np.nansum(nstage, axis=0)\n",
    "\n",
    "    def compute_populations(self, temperature, electron_pressure):\n",
    "        \"\"\"\n",
    "        Computes relative level populations for all levels and all\n",
    "        ionisation stages using the Bolzmann and Saha laws.\n",
    "        \n",
    "        Parameters\n",
    "        ----------\n",
    "        temperature: astropy.units.quantity (scalar or array)\n",
    "            Gas temperature in units of K or equivalent.\n",
    "        electron_pressure: astropy.units.quantity (scalar)\n",
    "            Electron pressure in units of Pa or equivalent.\n",
    "        \"\"\"\n",
    "        return (self.compute_excitation(temperature) * \n",
    "                self.compute_ionisation(temperature, electron_pressure)[:, np.newaxis])\n",
    "\n",
    "\n",
    "    def plot_partition_function(self, temperature):\n",
    "        \"\"\"\n",
    "        Need ax infos.\n",
    "        \"\"\"\n",
    "        U = self.compute_partition_function(temperature)\n",
    "        fig, ax = plt.subplots()\n",
    "        for r in range(4):\n",
    "            ax.plot(temperature, U[r], label=f'r={r+1:.0f}')\n",
    "        atom_title = f'for the {self.filename[:2]} atom'\n",
    "        ax.set_title('Partition function of the first four ionization stages \\n' + atom_title)\n",
    "        ax.set_xlabel('Temperature [K]')\n",
    "        ax.set_ylabel(r'$U_r$')\n",
    "        ax.grid()\n",
    "        plt.legend()\n",
    "        plt.show()\n",
    "\n",
    "\n",
    "    def plot_payne(self, temperature, electron_pressure):\n",
    "        pops = self.compute_populations(temperature, electron_pressure)\n",
    "        fig, ax = plt.subplots()\n",
    "        ax.plot(np.tile(temperature, (self.n_stages,1)).T, pops[:,0].T, 'b-')\n",
    "        ax.plot([],[], 'b-', label='s=1')\n",
    "        n_levels = self.chi[0].shape[0]\n",
    "        if n_levels > 1:\n",
    "            ax.plot(np.tile(temperature, (self.n_stages,1)).T, pops[:,1].T, 'r--')\n",
    "            ax.plot([],[], 'r--', label='s=2')\n",
    "        if n_levels > 2:\n",
    "            ax.plot(np.tile(temperature, (self.n_stages,1)).T, pops[:,2].T, 'k:')\n",
    "            ax.plot([],[], 'k:', label='s=3')\n",
    "\n",
    "        ax.set_yscale('log')\n",
    "        ax.set_ylim(1e-6, 1.1)\n",
    "        ax.set_xlabel('Temperature [K]')\n",
    "        ax.set_ylabel('Populations')\n",
    "        ax.set_title(fr'Payne Curve for {self.filename[0:2]} with electron pressure $P_a=${electron_pressure:.2e}')\n",
    "        ax.legend()\n",
    "\n"
   ]
  },
  {
   "cell_type": "markdown",
   "metadata": {},
   "source": [
    "We now make a plot of the partition functions for the first four ionization stages of the simplified Ca atom for temperatures of $T\\in[100,\\,30\\cdot 10^3]\\,\\mathrm{K}$"
   ]
  },
  {
   "cell_type": "code",
   "execution_count": null,
   "metadata": {},
   "outputs": [],
   "source": [
    "Ca = Atom(\"data/Ca_atom.txt\")\n",
    "T_part_func = np.linspace(100, int(3e4), int(1e4)) * units.K\n",
    "Ca.plot_partition_function(temperature=T_part_func)\n"
   ]
  },
  {
   "cell_type": "markdown",
   "metadata": {},
   "source": [
    "Initially, the partition functions are dominated by the value of $g_{r,s}$ at the lowest level in each state, since $\\chi=0$ at these levels. For $r=1,2,3,4$ we have $g_{r,s}=1,2,1,4$, respectively, yielding the starting point of each curve. The remaining terms are strongly suppressed by the exponential term for low temperature values. When temperature increases higher values of $\\chi_{r,s}$ will eventually start contributing to $U_r$. Ionisation stages having a small energy difference between the ground state and the first excited state, $\\Delta \\chi_{r}\\equiv \\chi_{r,s=2}-\\chi_{r,s=1}$, will have an increase in $U_r$ at lower temperatures. We print $\\Delta\\chi_r$ for the first four ionisation stages.  "
   ]
  },
  {
   "cell_type": "code",
   "execution_count": null,
   "metadata": {},
   "outputs": [],
   "source": [
    "print('Delta chi for the first four ionisation stages:')\n",
    "for i in range(4):\n",
    "    print(f'r={i+1:.0f}: ', f\"{Ca.chi[i,1]:.3e}\")"
   ]
  },
  {
   "cell_type": "markdown",
   "metadata": {},
   "source": [
    "$\\Delta\\chi_4$ is by far the lowest value, which is expected, due to $U_4$ being the partition function that increases at the lowest temperature value. For $r=3$, the energy difference is larger than the other stages by more than a factor $10$. As a result, there is no apparent change in $U_3$ for the temperature range we consider. For $r=1$ and $r=2$ we get an increase in the same temperature domain, as their energy differences are comparable in size. By increasing the temperature further, higher values of $\\chi_{r,s}$ will eventually contribute to the sum, causing $U_r$ to increase further. \n",
    "\n",
    "The second factor to consider are the different values of $g_{r,s}$. When new values of $\\chi_{r,s}$ start contributing, their corresponding values of $g_{r,s}$ determines how large of a contribution one gets. For $r=4$ we have $g_{4,1}=4$ and $g_{4,2}=2$, so the increase of $U_4$ is slow at first, and eventually halts, as the temperature never reaches a value where higher levels become important. For $r=2$ the levels $s=2$ and $s=3$ starts to affect $U_2$ for similar temperature values, and their combined statistical weight is $g=10$, and we get a steeper increase in $U_2$ that also lasts longer.  \n",
    "\n",
    "In general, the partition functions for the various stages will eventually increase at higher temperatures. As it reaches a certain level, it will converge to a final value as previously discussed.  "
   ]
  },
  {
   "cell_type": "markdown",
   "metadata": {},
   "source": [
    "\n",
    "____\n",
    "OLD DESCRIPTION\n",
    "\n",
    "The partition functions eventually start increasing with temperature, but at different points. \n",
    "\n",
    "The different starting points are mainly governed by the values of $g_{r,s}$ and $\\chi_{r,s}$ at the different stages. For low values of $\\chi$ the exponent will increase more rapidly. So for low energy differences between the ground state and the excited states in the different stages we will se an *increase?* increment in $U_r$ at lower temperatures. This explains why the stage *r* $s=3$ has a partition function that is more or less constant in the given temperature range. The energy difference from the ground state to the first excited state for this particular stage is more than ten times greater compared to the other stages. For $r=4$, the difference is approximately five times lower than that of $r=1$ and $r=2$, yielding a noticeable change in $U_r$ around $T=10^3\\,\\mathrm{K}$. For $r=1$ and $r=2$ $U_r$ starts increasing at around $T=4\\cdot 10^3\\,\\mathrm{K}$.\n",
    "\n",
    "With $\\chi$ governing the temperature ranges where we expect $U_r$ to start rising, the value of $g_{r,s}$ at these energies determines how much increment we may get. For $r=1$ there are numerous low values of $\\chi$, and with large values of $g$ in this stage, we see that $U_r$ increases steadily once a certain temperature has been reached. As temperature increases, more and more levels become dominant, where the factors of $g$ range from $g=1$ to $g=21$. This explains why the low temperature increment of $U_{r=4}$ eventually stabilizes. From the first excited state to the next one, $\\chi$ increases by a factor of around $50$. Thus, the first excited state is the only main contributor for the temperatures we consider, and having a factor of $g=2$ at this state we get a slow increment that eventually stabilizes. For $r=2$ all the excited states have a relatively low value, but having only four of them, at relatively low value, compared to $r=1$, the increment is less rapid, and eventually stabilizes. \n",
    "\n",
    "In general, all partition functions will eventually stabilize as the temperature reaches a certain value. The final values will eventually be governed by our limited selection of g values at different stages. \n",
    "OLD DESCRIPTION\n",
    "____\n"
   ]
  },
  {
   "cell_type": "markdown",
   "metadata": {},
   "source": [
    "Next, we want to plot some Payne curves for Calcium. The particle density at each ionisation stage, $N_r$, is normalized the plot represents the population densities as a fraction of total elements, i.e. $n_{r,s}/N_{\\mathrm{Ca,tot}}$. We plot the Payne curves for $T\\in[100,\\,175\\cdot 10^3]\\,\\mathrm{K}$ and include the first three energy levels at each stage. To see how the electron pressure affects the curves, we will use $P_e=100\\,\\mathrm{Pa}$ at first and increase to $P_e=1\\,\\mathrm{MPa}$. "
   ]
  },
  {
   "cell_type": "code",
   "execution_count": null,
   "metadata": {},
   "outputs": [],
   "source": [
    "T_payne = np.linspace(100, int(175e3), int(1e4)) * units.K\n",
    "electron_pressure = 100 * units.Pa\n",
    "Ca.plot_payne(T_payne, electron_pressure)\n",
    "Ca.plot_payne(T_payne, electron_pressure*1e4)"
   ]
  },
  {
   "cell_type": "markdown",
   "metadata": {},
   "source": [
    "Above, we see the resulting Payne curves for the different stages of first three excitation levels, $s=1,\\, 2,\\, 3$, of Calcium using $P_e=100\\,\\mathrm{Pa}$ in the upper panel, and $P_a=10^6 \\,\\mathrm{Pa}$ in the lower panel. For the upper panel all Calcium is neutral and in its ground state to begin with, but this fraction rapidly drops when reaching temperatures where singly ionized Calcium becomes dominant. For higher temperatures, excitation also plays an important role, as is evident for singly ionized Calcium, where a noteable fraction of the population comes from $s=1$ and $s=2$. As temperature increases the different ionization stages overlap, and single ionization levels seize to dominate the entire population by them selvels. Here, the excited states at different stages begin to play a significant role. The peaks of the ionization stages drops gradually since multiple ionisation have a high probability for certain high temperature ranges. Eventually, we reach sufficiently high temperatures for $r=6$ to begin dominating, as all lower stages will become depleted for higher temperatues. This is a result of the Saha distribution ionising all lower levels at sufficiently high temperatures, as previously discussed. \n",
    "\n",
    "Similar behaviour is also seen in the lower panel, where the electron pressure is increased by a factor $10^4$. In general we see that the different stages persist for much higher temperatures compared to the previous plot. For $s=1$ the individual curves are spread out over larger temepratures ranges, but are relatively similar in shape otherwise. Much higher temperatures are needed in order for ionization to occur in this case. When we increase the electron pressure we essentially increase the number density of surrounding electrons. A high density of electrons yields an increased Coulomb force on electrons in the atom and a higher energy is required to overcome the Coulomb potential and thus ionize the atoms. This can be seen from the populations of singly and doubly ionized Calcium, where both stages have excited states that are noteably more abundant than before. For doubly ionized Calcium, the energy required to excite electrons is so high that for $P_e=100\\,\\mathrm{Pa}$ the stage was largely ionized before any excitation took place. With increased electron pressure, the stage now consist of a relatively large fraction of excited states."
   ]
  },
  {
   "cell_type": "markdown",
   "metadata": {},
   "source": [
    "We now plot Payne curves for Sodium, using $P_e=100\\,\\mathrm{Pa}$. Having only three stages for this atom we use a temperature range $T\\in[100,\\,10^5]\\,\\mathrm{K}$ to better resolve the temperature dependecy.  "
   ]
  },
  {
   "cell_type": "code",
   "execution_count": null,
   "metadata": {},
   "outputs": [],
   "source": [
    "Na = Atom(\"data/Na_atom.txt\")\n",
    "# print(Ca.chi)\n",
    "T_payne_Na = np.linspace(100, 100*int(1e3), int(1e4)) * units.K\n",
    "Na.plot_payne(T_payne_Na, electron_pressure)"
   ]
  },
  {
   "cell_type": "markdown",
   "metadata": {},
   "source": [
    "For Sodium, we get similar Payne curves as we did for Calcium. It starts out in the neutral ground state, with excited states becoming present as temperature increases. The ionisation energy is not much higher than the neutral excitation energies, so ionisation begins when the temperature is increased further. However, there are numerous neutral energy levels contributing near $T\\sim 5000\\,\\mathrm{K}$, but there is a large energy gap between the ground state and first excited state of singly ionised Sodium. This causes the slow decline of the neutral Sodium populations, and it's not until the temperature surpasses $T\\sim20\\,000\\,\\mathrm{K}$ that Sodium is mostly singly ionised. When excitation of singly ionised Sodium atoms become relevant, second ionisation becomes important, and as temperature rises even further, there is eventually a slow decaying population of singly ionised Sodium atoms, until the final ionisation stage takes over completely.    "
   ]
  },
  {
   "cell_type": "markdown",
   "metadata": {},
   "source": [
    "### Exercise 3\n",
    "\n",
    "<div style=\"background-color:#e6ffe6; padding:10px; border-style:\n",
    "solid;; border-color:#00e600; border-width:1px\">  \n",
    "<i>\n",
    "\n",
    "* Explain qualitatively why the solar $\\text{Ca}^+$ K line is much stronger than the solar H $\\alpha$ line, even though hydrogen is not ionised in the solar photosphere and low chromosphere ($T \\approx$ 4000 - 6000 K) where these lines are formed, and calcium is far less abundant than hydrogen in the Sun: the Ca/H abundance ratio is only $N_\\mathrm{Ca}/N_\\mathrm{H} = 2 \\times 10^{−6}$. Assume again that the observed line strength scales with the lower-level population density (which it does, although nonlinearly through a \\\"curve of growth\\\" as you will see in Project 2).\n",
    "    \n",
    "* Prove your explanation by computing and plotting the expected strength ratio of these two lines as function of temperature for $P_e = 10^2$ dyne cm $^{-2}$. Make use of `H_atom.txt` and `Ca_atom.txt`. \n",
    "    \n",
    "* The relative population change $(\\Delta n / \\Delta T) / n$ is useful to to diagnose the temperature sensitivity of the populations of a given atomic stage. Plot in a log scale the relative population changes for the lower levels of $\\text{Ca}^+$ K and H $\\alpha$ vs. temperature, using  $\\Delta T=$ 1 K. Around $T=$ 5600 K the $\\text{Ca}^+$ K curve dips down to very  small values; the H $\\alpha$ curve does that around $T=$ 9500  K. Thus, at $T \\approx$ 5600 K the temperature sensitivity of $\\text{Ca}^+$ K is much smaller than the temperature sensitivity of H $\\alpha$. Compare these plots with plots of the populations of the lower levels for the two lines (normalise them to the maximum value of each for easier comparison). You should find that the population plots have a peak and two flanks. Explain each flank of the population plots and the dips in the temperature sensitivity plots.\n",
    "\n",
    "* Find at which temperature the hydrogen in stellar photospheres with $P_e =$ 10 Pa is about 50% ionised. Plot the neutral and ionised fractions of hydrogen as a function of temperature.\n",
    "\n",
    "</i>\n",
    "</div>"
   ]
  },
  {
   "cell_type": "markdown",
   "metadata": {},
   "source": [
    "Even though Hydrogen is far more abundant than Calcium in the sun, with a ratio of $N_\\mathrm{Ca}/N_\\mathrm{H}=2\\cdot 10^{-6}$, the $\\mathrm{Ca^+ K}$ line is much stronger than the $\\mathrm{H \\alpha}$ line in the sun, because we assume that spectral lines scales with the lower level population density, not the total abundance of individual elements. The overall abundance will affect the lower level population density. However, for $\\mathrm{Ca^+ K}$, we must consider the abundance of singly ionized Calcium in the ground state. For Balmer $\\alpha$, the population to consider is that of the first excited state of neutral Hydrogen. The energy required to singly ionize calsium  is less than what is required to excite the hydrogen atom. Thus, the population density in the ground state of $\\mathrm{Ca^+ K}$ is greater that that of the first excited stage of $\\mathrm{H}$. As a result the $\\mathrm{Ca^+ K}$ line is stronger than the $\\mathrm{Ba \\;\\alpha}$ where the atoms have relatively low energy, as for chromospheric temperatures. "
   ]
  },
  {
   "cell_type": "markdown",
   "metadata": {},
   "source": [
    "When we compute the populations of $\\mathrm{Ca^+ K}$ in the `Atom` class we normalize it with the total number of Calcium atoms. If we denote the relative population of $\\mathrm{Ca^+ K}$ as \n",
    "$$P(\\mathrm{Ca^+ K})=\\frac{n_\\mathrm{Ca^+ K}}{ N_\\mathrm{Ca}}$$\n",
    "where $N_\\mathrm{Ca}$ denotes the total number of Calcium atoms, the ratio between the population densities of $n_\\mathrm{Ca^+ K}$ and $n_\\mathrm{H \\alpha}$ become \n",
    "\n",
    "\n",
    "$ \\frac{n_\\mathrm{Ca^+ K}}{n_\\mathrm{H \\alpha}} = \\frac{P(\\mathrm{Ca^+ K})}{P(\\mathrm{H \\alpha})}\\cdot \\frac{N_\\mathrm{Ca}}{N_\\mathrm{H}} = \\frac{P(\\mathrm{Ca^+ K})}{P(\\mathrm{H \\alpha})} \\cdot 2\\cdot 10^{-6} $\n",
    "\n"
   ]
  },
  {
   "cell_type": "markdown",
   "metadata": {},
   "source": [
    "We then plot this ratio for a range of temperatures $T\\in[1, 20] \\cdot 10^3$ K"
   ]
  },
  {
   "cell_type": "code",
   "execution_count": null,
   "metadata": {},
   "outputs": [],
   "source": [
    "#   strength ratio comparison\n",
    "H = Atom(\"data/H_atom.txt\")\n",
    "T_chrom = np.linspace(1e3, 20e3, int(1e4)) * units.K \n",
    "Pe_chrom = 1e2 * units.dyn * units.cm**(-2) \n",
    "\n",
    "Halpha_pop = H.compute_populations(T_chrom, Pe_chrom)[0,1,:]\n",
    "Ca_II_pop = Ca.compute_populations(T_chrom, Pe_chrom)[1,0,:]\n",
    "\n",
    "n_ratio = (Ca_II_pop / Halpha_pop) * 2e-6\n",
    "\n",
    "plt.plot(T_chrom, n_ratio, ls=\"-\", color=\"blue\", label=r\"$\\frac{n_\\mathrm{Ca^+ K}}{n_\\mathrm{H \\alpha}}$\")\n",
    "plt.yscale('log')\n",
    "title1 = r'Expected strength ratio between Ca II K and H$\\alpha$' \n",
    "title2 = 'assuming strength proportional to population density'\n",
    "plt.title(title1 + '\\n' + title2)\n",
    "plt.ylabel(r'Density ratio of Ca$^+$ and H $\\alpha$, $n_{Ca^+} / n_{H \\alpha}$')\n",
    "plt.xlabel('Temperature [K]')\n",
    "plt.axvline(4000, ls=\"--\", lw=1, color=\"red\", label=r\"$T\\in[4,6]\\cdot 10^3$ K\")\n",
    "plt.axvline(6000, ls=\"--\", lw=1, color=\"red\")\n",
    "plt.axhline(1, ls=\"--\", lw=1, color=\"black\", label=r\"$\\frac{n_\\mathrm{Ca^+ K}}{n_\\mathrm{H \\alpha}}=1$\")\n",
    "plt.legend(fontsize=\"x-large\")\n",
    "plt.show()\n",
    "\n",
    "\n"
   ]
  },
  {
   "cell_type": "markdown",
   "metadata": {},
   "source": [
    "We see from the figure above that for the chromospheric temperature range marked with red dashed lines, the ratio of $\\mathrm{Ca^+ K}$ to $\\mathrm{H} \\alpha$ is significantly larger than 1. Thus it makes sense that the line of $\\mathrm{Ca^+ K}$ is stronger, as predicted. At higher temperatures the ratio drops below 1, meaning that the abundance of hydrogen excited to the first level becomes greater than the abundance of singly ionised calsium. This is also to be expected since higher temperatures yield more energetic atoms. Higher energy also means that calsium is further ionised beyond singly, resulting in a weaker $\\mathrm{Ca^+ K}$ line."
   ]
  },
  {
   "cell_type": "code",
   "execution_count": null,
   "metadata": {},
   "outputs": [],
   "source": [
    "T_sensitivity = np.linspace(2e3, 20e3, int(1e4)) * units.K\n",
    "\n",
    "def rel_pop_change(t,p, type=None):\n",
    "    if type==\"Ca\":\n",
    "        pop = Ca.compute_populations(t, p)[1,0,:]\n",
    "        pop_p1 = Ca.compute_populations(t + 1*units.K, p)[1,0,:]\n",
    "    elif type==\"H\":\n",
    "        pop = H.compute_populations(t, p)[0,1,:]\n",
    "        pop_p1 = H.compute_populations(t + 1*units.K, p)[0,1,:]\n",
    "    else:\n",
    "        return None \n",
    "    \n",
    "    rel_pop_change = np.abs(pop_p1 - pop) / pop \n",
    "    return rel_pop_change / np.max(rel_pop_change)\n",
    "\n",
    "CaII_rel_pop_change = rel_pop_change(T_sensitivity, Pe_chrom, type=\"Ca\") \n",
    "Ha_rel_pop_change = rel_pop_change(T_sensitivity, Pe_chrom, type=\"H\") \n",
    "plt.title(\"Relative population change as function of temperature\")\n",
    "plt.xlabel(\"Temperature [K]\")\n",
    "plt.ylabel(r\"Normalised relative population change $ \\Delta n/\\Delta T/n$\")\n",
    "plt.plot(T_sensitivity, CaII_rel_pop_change, color='blue', label=r'$\\mathrm{Ca^+ K}$')\n",
    "plt.plot(T_sensitivity, Ha_rel_pop_change, color='red', label=r'$H \\alpha$')\n",
    "plt.yscale('log')\n",
    "plt.legend()\n",
    "plt.show()\n",
    "\n",
    "print(f\"Temperature of Halpha curve dip: {T_sensitivity[np.argmin(Ha_rel_pop_change)]:.0f}\")\n",
    "print(f\"Temperature of CaII K curve dip: {T_sensitivity[np.argmin(CaII_rel_pop_change)]:.0f}\")\n"
   ]
  },
  {
   "cell_type": "code",
   "execution_count": null,
   "metadata": {},
   "outputs": [],
   "source": [
    "T_pops = np.linspace(2e3, 20e3, int(1e4)) * units.K \n",
    "Halpha_pop_2 = H.compute_populations(T_pops, Pe_chrom)[0,1,:]\n",
    "Ca_II_pop_2 = Ca.compute_populations(T_pops, Pe_chrom)[1,0,:]\n",
    "plt.title(\"Normalized population density as function of temperature\")\n",
    "plt.xlabel(\"Temperature [K]\")\n",
    "plt.ylabel(r\"Relative population\")\n",
    "plt.plot(T_pops, Ca_II_pop_2 / Ca_II_pop_2.max(), color='blue', label=r'$\\mathrm{Ca^+ K}$')\n",
    "plt.plot(T_pops, Halpha_pop_2 / Halpha_pop_2.max(), color='red', label=r'$H \\alpha$')\n",
    "plt.legend()\n",
    "# plt.yscale('log')\n",
    "plt.show()\n",
    "\n",
    "print(f\"Temperature of Halpha curve peak: {T_pops[np.argmax(Halpha_pop_2)]:.0f}\")\n",
    "print(f\"Temperature of CaII K curve peak: {T_pops[np.argmax(Ca_II_pop_2)]:.0f}\")\n"
   ]
  },
  {
   "cell_type": "markdown",
   "metadata": {},
   "source": [
    "We see from the two plots above that the relative population change and the relative population show similar (inverse) behaviour. When the relative population change is high there are is a low population, and vice versa. The populations peak where the population density dips; low change result in a higer population. As the population change increase, the populations decrease.\n",
    "\n",
    "The left flank in the population is for low temperatures, meaning that there is not enough energy to neither ionise calsium to obtain $\\mathrm{Ca^+ K}$ nor to excite hydrogen to get $H \\alpha$. Thus their population of both remains low. We then get enough energy to ionise calsium, the population reach a peak and the declines steadily. This steady decline could be because the energy required to excite ionised calsium is not very high, and the statistical weights of the excited states are mostly greater than that of the ground state. Once calsium becomes doubly ionised the population rapidly falls towards zero (starts at $T\\approx 11000$ K), thus the population depletes. \n",
    "\n",
    "Excited hydrogen starts to occur at $T\\approx 6000$ K, before which the energy is too low to excite the atom. The population increase to peak, and the falls off slower due to the furter excitation of the hydrogen atom. The population never reaches zero again in the plot above, which is because there is not yet enough energy to ionise hydrogen and thus deplete the population of neutral hydrogen.  "
   ]
  },
  {
   "cell_type": "code",
   "execution_count": null,
   "metadata": {},
   "outputs": [],
   "source": [
    "T_photo = np.linspace(int(6e3), int(12e3), int(1e4)) * units.K\n",
    "Pe_photo = 10 * units.Pa\n",
    "H_neutral, H_ion = H.compute_populations(T_photo, Pe_photo)\n",
    "\n",
    "tot_H_neutral = np.nansum(H_neutral, axis=0)\n",
    "tot_H_ion = np.nansum(H_ion, axis=0)\n",
    "H_equal_temp = T_photo[np.argmin(abs(tot_H_neutral - tot_H_ion))]\n",
    "\n",
    "plt.title(\"Fractions of neutral and ionised hydrogen\")\n",
    "plt.xlabel(\"Temperature [K]\")\n",
    "plt.ylabel(\"Fraction\")\n",
    "plt.plot(T_photo, tot_H_neutral, color='blue', label='Neutral')\n",
    "plt.plot(T_photo, tot_H_ion, color='red', label='Ionized')\n",
    "plt.vlines(H_equal_temp, ymin=-0.1, ymax=1.1, color='black', ls='--', label='H=H$^+$')\n",
    "plt.legend()\n",
    "plt.show()\n",
    "\n",
    "print(f\"Temperature of equal amounts neutral and ionized Hydrogen: {H_equal_temp:.0f}\")\n"
   ]
  },
  {
   "cell_type": "markdown",
   "metadata": {},
   "source": [
    "Above is a plot of the fraction of neutral and ionised hydrogen in the stellar photosphere ($P_e \\approx 50$ Pa). For lower temperatures most of the hydrogen is neutral, while for for higher temperatures the majority becomes ionised. The transition is symmetric, and around $T\\approx 9200$ K there is an equal abundance of neutral and ionised hydrogen. "
   ]
  }
 ],
 "metadata": {
  "kernelspec": {
   "display_name": "Python 3.10.4 64-bit",
   "language": "python",
   "name": "python3"
  },
  "language_info": {
   "codemirror_mode": {
    "name": "ipython",
    "version": 3
   },
   "file_extension": ".py",
   "mimetype": "text/x-python",
   "name": "python",
   "nbconvert_exporter": "python",
   "pygments_lexer": "ipython3",
   "version": "3.10.4"
  },
  "vscode": {
   "interpreter": {
    "hash": "916dbcbb3f70747c44a77c7bcd40155683ae19c65e1c03b4aa3499c5328201f1"
   }
  }
 },
 "nbformat": 4,
 "nbformat_minor": 4
}
